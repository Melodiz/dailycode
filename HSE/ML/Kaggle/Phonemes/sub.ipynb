{
  "cells": [
    {
      "cell_type": "markdown",
      "metadata": {},
      "source": [
        "# Submission — Ensemble (LR + LDA with PSS + PCA)\n",
        "\n",
        "Clean reproduction of the final ensemble using fixed best hyperparameters from solution.ipynb. No grid search. Writes solution_ensemble.csv."
      ]
    },
    {
      "cell_type": "code",
      "execution_count": 2,
      "metadata": {},
      "outputs": [
        {
          "name": "stdout",
          "output_type": "stream",
          "text": [
            "Train: (50000, 256)  Test: (10000, 256)\n",
            "Saved ensemble: /Users/ianovosad/code/HSE/ML/Kaggle/Phonemes/solution_ensemble.csv\n"
          ]
        },
        {
          "data": {
            "text/plain": [
              "g\n",
              "ao     2339\n",
              "iy     2629\n",
              "dcl    1644\n",
              "sh     1944\n",
              "aa     1444\n",
              "Name: count, dtype: int64"
            ]
          },
          "execution_count": 2,
          "metadata": {},
          "output_type": "execute_result"
        }
      ],
      "source": [
        "import os\n",
        "import numpy as np, pandas as pd\n",
        "from sklearn.pipeline import Pipeline\n",
        "from sklearn.base import BaseEstimator, TransformerMixin\n",
        "from sklearn.decomposition import PCA\n",
        "from sklearn.discriminant_analysis import LinearDiscriminantAnalysis as LDA\n",
        "from sklearn.linear_model import LogisticRegression\n",
        "\n",
        "SEED = 42\n",
        "DATA_PATH = 'XY_Phonemes.csv'\n",
        "assert os.path.exists(DATA_PATH), 'XY_Phonemes.csv not found'\n",
        "\n",
        "# Per-speaker standardizer\n",
        "class PerSpeakerStandardizer(BaseEstimator, TransformerMixin):\n",
        "    def __init__(self):\n",
        "        self.global_mean_ = None\n",
        "        self.global_std_ = None\n",
        "        self.spk_mean_ = {}\n",
        "        self.spk_std_ = {}\n",
        "    def fit(self, X, y=None, groups=None):\n",
        "        X = np.asarray(X)\n",
        "        self.global_mean_ = X.mean(axis=0)\n",
        "        self.global_std_ = X.std(axis=0) + 1e-8\n",
        "        self.spk_mean_.clear(); self.spk_std_.clear()\n",
        "        if groups is not None:\n",
        "            for spk in np.unique(groups):\n",
        "                idx = (groups == spk)\n",
        "                self.spk_mean_[spk] = X[idx].mean(axis=0)\n",
        "                self.spk_std_[spk]  = X[idx].std(axis=0) + 1e-8\n",
        "        return self\n",
        "    def transform(self, X, y=None, groups=None):\n",
        "        X = np.asarray(X)\n",
        "        if groups is None:\n",
        "            return (X - self.global_mean_) / self.global_std_\n",
        "        out = np.empty_like(X, dtype=float)\n",
        "        for i, spk in enumerate(groups):\n",
        "            m = self.spk_mean_.get(spk, self.global_mean_)\n",
        "            s = self.spk_std_.get(spk, self.global_std_)\n",
        "            out[i] = (X[i] - m) / s\n",
        "        return out\n",
        "\n",
        "# Load data\n",
        "df = pd.read_csv(DATA_PATH, low_memory=False)\n",
        "is_train = df['g'].notna()\n",
        "train = df[is_train].copy()\n",
        "test  = df[~is_train].copy()\n",
        "X_cols = [c for c in df.columns if c.startswith('x')]\n",
        "X = train[X_cols].values\n",
        "y = train['g'].values\n",
        "groups = train['speaker'].values if 'speaker' in train.columns else None\n",
        "X_test = test[X_cols].values\n",
        "print('Train:', X.shape, ' Test:', X_test.shape)\n",
        "\n",
        "# Fixed best hyperparameters from solution.ipynb\n",
        "# LDA+PCA+PSS: shrinkage=0.1, n_components=100 (CV acc=0.9267)\n",
        "lda = Pipeline([\n",
        "    ('pss', PerSpeakerStandardizer()),\n",
        "    ('pca', PCA(n_components=100, random_state=SEED)),\n",
        "    ('clf', LDA(solver='lsqr', shrinkage=0.1))\n",
        "])\n",
        "# LR+PCA+PSS: C=0.3, n_components=60 (CV acc=0.9270)\n",
        "lr = Pipeline([\n",
        "    ('pss', PerSpeakerStandardizer()),\n",
        "    ('pca', PCA(n_components=60, random_state=SEED)),\n",
        "    ('clf', LogisticRegression(max_iter=600, solver='lbfgs', C=0.3))\n",
        "])\n",
        "\n",
        "# Fit both on full data\n",
        "fit_params = {'pss__groups': groups} if groups is not None else {}\n",
        "lda.fit(X, y, **fit_params)\n",
        "lr.fit(X, y, **fit_params)\n",
        "\n",
        "# Soft-vote using the reported CV accuracies as weights\n",
        "w_lda, w_lr = 0.9267, 0.9270\n",
        "p_lda = lda.predict_proba(X_test)\n",
        "p_lr  = lr.predict_proba(X_test)\n",
        "P = (w_lda * p_lda + w_lr * p_lr) / (w_lda + w_lr)\n",
        "classes = lda.classes_\n",
        "pred = classes[P.argmax(axis=1)]\n",
        "sub = pd.DataFrame({'g': pred}, index=range(1, len(pred)+1))\n",
        "out_path = 'solution_ensemble.csv'\n",
        "sub.to_csv(out_path, index_label='id')\n",
        "print('Saved ensemble:', os.path.abspath(out_path))\n",
        "sub['g'].value_counts(sort=False)"
      ]
    }
  ],
  "metadata": {
    "kernelspec": {
      "display_name": "melcond",
      "language": "python",
      "name": "python3"
    },
    "language_info": {
      "codemirror_mode": {
        "name": "ipython",
        "version": 3
      },
      "file_extension": ".py",
      "mimetype": "text/x-python",
      "name": "python",
      "nbconvert_exporter": "python",
      "pygments_lexer": "ipython3",
      "version": "3.11.13"
    }
  },
  "nbformat": 4,
  "nbformat_minor": 5
}
