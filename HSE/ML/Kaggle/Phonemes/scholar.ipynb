{
  "cells": [
    {
      "cell_type": "markdown",
      "metadata": {},
      "source": [
        "# Scholar — Hard-Coded Runner\n",
        "\n",
        "Runs literature-backed pipelines with hard-coded parameters (no argparse)."
      ]
    },
    {
      "cell_type": "code",
      "execution_count": null,
      "metadata": {},
      "outputs": [],
      "source": [
        "# Fixed configuration\n",
        "DATA_PATH = 'XY_Phonemes.csv'\n",
        "MODE = 'eval'          # 'eval' | 'grid' | 'export'\n",
        "OUTPUT_PATH = 'scholar_sub.csv'\n",
        "SEED = 42"
      ]
    },
    {
      "cell_type": "code",
      "execution_count": null,
      "metadata": {},
      "outputs": [],
      "source": [
        "# Imports from scholar.py (transformers, pipelines, helpers)\n",
        "import os, numpy as np, pandas as pd\n",
        "from scholar import (\n",
        "    build_pipelines, grid_candidates, evaluate_cv,\n",
        "    PerSpeakerStandardizer, MovingAverageSmoother, BandAverager, Cepstral, diff12_tf, SpectralDescriptors,\n",
        "    HAS_SGF, StratifiedGroupKFold, GroupKFold\n",
        ")\n",
        "from sklearn.model_selection import GroupKFold\n",
        "\n",
        "assert os.path.exists(DATA_PATH), f'{DATA_PATH} not found'\n",
        "df = pd.read_csv(DATA_PATH, low_memory=False)\n",
        "is_train = df['g'].notna()\n",
        "train = df[is_train].copy()\n",
        "test  = df[~is_train].copy()\n",
        "X_cols = [c for c in df.columns if c.startswith('x.')]\n",
        "X = train[X_cols].values.astype(float)\n",
        "y = train['g'].values\n",
        "groups = train['speaker'].values if 'speaker' in train.columns else None\n",
        "X_test = test[X_cols].values.astype(float)\n",
        "\n",
        "cv = StratifiedGroupKFold(n_splits=5, shuffle=True, random_state=SEED) if (HAS_SGF and groups is not None) else (GroupKFold(n_splits=5) if groups is not None else 5)\n",
        "pipes = build_pipelines()\n",
        "print('MODE =', MODE)\n",
        "print('Pipelines:', list(pipes.keys()))"
      ]
    },
    {
      "cell_type": "code",
      "execution_count": null,
      "metadata": {},
      "outputs": [],
      "source": [
        "# Execute requested mode with hard-coded params\n",
        "if MODE == 'eval':\n",
        "    for name, pipe in pipes.items():\n",
        "        mean, std = evaluate_cv(pipe, X, y, groups, cv)\n",
        "        print(f'{name}: acc={mean:.4f} ± {std:.4f}')\n",
        "\n",
        "elif MODE == 'grid':\n",
        "    from sklearn.model_selection import GridSearchCV\n",
        "    grids = grid_candidates()\n",
        "    results = []\n",
        "    for name, (pipe, grid) in grids.items():\n",
        "        gs = GridSearchCV(pipe, grid, cv=cv, scoring='accuracy', n_jobs=-1, refit=True, verbose=0)\n",
        "        fit_params = {}\n",
        "        if 'pss' in pipe.named_steps and groups is not None:\n",
        "            fit_params['pss__groups'] = groups\n",
        "        gs.fit(X, y, groups=groups, **fit_params)\n",
        "        print(f\"{name}: best_acc={gs.best_score_:.4f} params={gs.best_params_}\")\n",
        "        results.append((name, float(gs.best_score_), gs.best_params_))\n",
        "    import pandas as pd\n",
        "    display(pd.DataFrame(results, columns=['pipeline', 'cv_acc', 'best_params']).sort_values('cv_acc', ascending=False))\n",
        "\n",
        "elif MODE == 'export':\n",
        "    pipe = pipes['Best']\n",
        "    fit_params = {'pss__groups': groups} if groups is not None else {}\n",
        "    pipe.fit(X, y, **fit_params)\n",
        "    pred = pipe.predict(X_test)\n",
        "    sub = pd.DataFrame({'g': pred}, index=range(1, len(pred)+1))\n",
        "    sub.to_csv(OUTPUT_PATH, index_label='id')\n",
        "    print('Saved', os.path.abspath(OUTPUT_PATH))\n",
        "    display(sub['g'].value_counts(sort=False))\n",
        "\n",
        "else:\n",
        "    raise ValueError('Unknown MODE; use eval | grid | export')"
      ]
    }
  ],
  "metadata": {
    "kernelspec": {
      "display_name": "melcond",
      "language": "python",
      "name": "python3"
    },
    "language_info": {
      "name": "python",
      "version": "3.11.13"
    }
  },
  "nbformat": 4,
  "nbformat_minor": 5
}
