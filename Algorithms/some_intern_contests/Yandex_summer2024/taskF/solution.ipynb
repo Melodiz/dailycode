{
 "cells": [
  {
   "cell_type": "code",
   "execution_count": 15,
   "metadata": {},
   "outputs": [],
   "source": [
    "import pandas as pd\n",
    "import numpy as np"
   ]
  },
  {
   "cell_type": "code",
   "execution_count": 16,
   "metadata": {},
   "outputs": [],
   "source": [
    "books = pd.read_pickle('book_embeddings.pkl')\n",
    "queries = pd.read_pickle('query_embeddings.pkl')"
   ]
  },
  {
   "cell_type": "code",
   "execution_count": 17,
   "metadata": {},
   "outputs": [],
   "source": [
    "def find_similar_books(query_embedding, books, n=5):\n",
    "    # calculate cosine similarity between query and all books\n",
    "    cosine_similarities = np.dot(books, query_embedding) / (np.linalg.norm(books, axis=1) * np.linalg.norm(query_embedding))\n",
    "    # get indices of top n most similar books\n",
    "    top_n_indices = np.argsort(cosine_similarities)[-n:][::-1]\n",
    "    # get names of top n most similar books\n",
    "    top_n_books = books.iloc[top_n_indices].index.tolist() # convert index to book name\n",
    "    return top_n_books"
   ]
  },
  {
   "cell_type": "code",
   "execution_count": 18,
   "metadata": {},
   "outputs": [
    {
     "name": "stderr",
     "output_type": "stream",
     "text": [
      "Processing queries: 100%|██████████| 1879/1879 [00:43<00:00, 42.74it/s]\n"
     ]
    }
   ],
   "source": [
    "from tqdm import tqdm\n",
    "\n",
    "with open('result.txt', 'w') as f:\n",
    "    # write the amount of queries\n",
    "    f.write(f'{len(queries)}\\n')\n",
    "    for query_embedding in tqdm(queries.values, desc=\"Processing queries\"):\n",
    "        similar_books = find_similar_books(query_embedding, books)\n",
    "        f.write(f'{len(similar_books)}\\n')\n",
    "        for t in range(len(similar_books)):\n",
    "            f.write(similar_books[t] + '\\n')\n",
    "    f.close()"
   ]
  }
 ],
 "metadata": {
  "kernelspec": {
   "display_name": "Python 3",
   "language": "python",
   "name": "python3"
  },
  "language_info": {
   "codemirror_mode": {
    "name": "ipython",
    "version": 3
   },
   "file_extension": ".py",
   "mimetype": "text/x-python",
   "name": "python",
   "nbconvert_exporter": "python",
   "pygments_lexer": "ipython3",
   "version": "3.11.7"
  }
 },
 "nbformat": 4,
 "nbformat_minor": 2
}
