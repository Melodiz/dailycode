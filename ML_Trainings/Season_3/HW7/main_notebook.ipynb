{
 "cells": [
  {
   "cell_type": "markdown",
   "metadata": {},
   "source": [
    "## Practice: Basic Artificial Neural Networks\n",
    "Credits: this notebook belongs to [Practical DL](https://docs.google.com/forms/d/e/1FAIpQLScvrVtuwrHSlxWqHnLt1V-_7h2eON_mlRR6MUb3xEe5x9LuoA/viewform?usp=sf_link) course by Yandex School of Data Analysis.\n",
    "\n",
    "We will start working with neural networks on the practice session. Your homework will be to finish the implementation of the layers."
   ]
  },
  {
   "cell_type": "markdown",
   "metadata": {},
   "source": [
    "Our goal is simple, yet an actual implementation may take some time :). We are going to write an Artificial Neural Network (almost) from scratch. The software design was heavily inspired by [PyTorch](http://pytorch.org) which is the main framework of our course "
   ]
  },
  {
   "cell_type": "markdown",
   "metadata": {},
   "source": [
    "Speaking about the homework (once again, it will be really similar to this seminar), it requires sending **multiple** files, please do not forget to include all the files when sending to TA. The list of files:\n",
    "- This notebook\n",
    "- modules.ipynb with all blocks implemented (except maybe `Conv2d` and `MaxPool2d` layers implementation which are part of 'advanced' version of this homework)"
   ]
  },
  {
   "cell_type": "code",
   "execution_count": 52,
   "metadata": {},
   "outputs": [],
   "source": [
    "%matplotlib inline\n",
    "from time import time, sleep\n",
    "import numpy as np\n",
    "import matplotlib.pyplot as plt\n",
    "from IPython import display"
   ]
  },
  {
   "cell_type": "markdown",
   "metadata": {},
   "source": [
    "# Framework"
   ]
  },
  {
   "cell_type": "markdown",
   "metadata": {},
   "source": [
    "Implement everything in `modules.ipynb`. Read all the comments thoughtfully to ease the pain. Please try not to change the prototypes.\n",
    "\n",
    "Do not forget, that each module should return **AND** store `output` and `gradInput`.\n",
    "\n",
    "The typical assumption is that `module.backward` is always executed after `module.forward`,\n",
    "so `output` is stored, this would be useful for `SoftMax`. "
   ]
  },
  {
   "cell_type": "markdown",
   "metadata": {},
   "source": [
    "### Tech note\n",
    "Prefer using `np.multiply`, `np.add`, `np.divide`, `np.subtract` instead of `*`,`+`,`/`,`-` for better memory handling.\n",
    "\n",
    "Example: suppose you allocated a variable \n",
    "\n",
    "```\n",
    "a = np.zeros(...)\n",
    "```\n",
    "So, instead of\n",
    "```\n",
    "a = b + c  # will be reallocated, GC needed to free\n",
    "``` \n",
    "You can use: \n",
    "```\n",
    "np.add(b,c,out = a) # puts result in `a`\n",
    "```"
   ]
  },
  {
   "cell_type": "code",
   "execution_count": 53,
   "metadata": {},
   "outputs": [],
   "source": [
    "# (re-)load layers\n",
    "%run modules.ipynb"
   ]
  },
  {
   "cell_type": "markdown",
   "metadata": {},
   "source": [
    "# Toy example"
   ]
  },
  {
   "cell_type": "markdown",
   "metadata": {},
   "source": [
    "Use this example to debug your code, start with logistic regression and then test other layers. You do not need to change anything here. This code is provided for you to test the layers. Also it is easy to use this code in MNIST task."
   ]
  },
  {
   "cell_type": "code",
   "execution_count": 54,
   "metadata": {
    "scrolled": false
   },
   "outputs": [
    {
     "data": {
      "text/plain": [
       "<matplotlib.collections.PathCollection at 0x143a7ba10>"
      ]
     },
     "execution_count": 54,
     "metadata": {},
     "output_type": "execute_result"
    }
   ],
   "source": [
    "# Generate some data\n",
    "N = 500\n",
    "\n",
    "X1 = np.random.randn(N,2) + np.array([2,2])\n",
    "X2 = np.random.randn(N,2) + np.array([-2,-2])\n",
    "\n",
    "Y = np.concatenate([np.ones(N),np.zeros(N)])[:,None]\n",
    "Y = np.hstack([Y, 1-Y])\n",
    "\n",
    "X = np.vstack([X1,X2])\n",
    "plt.scatter(X[:,0],X[:,1], c = Y[:,0], edgecolors= 'none')"
   ]
  },
  {
   "cell_type": "markdown",
   "metadata": {},
   "source": [
    "Define a **logistic regression** for debugging. "
   ]
  },
  {
   "cell_type": "code",
   "execution_count": 55,
   "metadata": {},
   "outputs": [
    {
     "name": "stdout",
     "output_type": "stream",
     "text": [
      "Linear 2 -> 2\n",
      "LogSoftMax\n",
      "\n"
     ]
    }
   ],
   "source": [
    "net = Sequential()\n",
    "net.add(Linear(2, 2))\n",
    "net.add(LogSoftMax())\n",
    "\n",
    "criterion = ClassNLLCriterion()\n",
    "\n",
    "print(net)\n",
    "\n",
    "# Test something like that then \n",
    "\n",
    "# net = Sequential()\n",
    "# net.add(Linear(2, 4))\n",
    "# net.add(ReLU())\n",
    "# net.add(Linear(4, 2))\n",
    "# net.add(LogSoftMax())"
   ]
  },
  {
   "cell_type": "markdown",
   "metadata": {},
   "source": [
    "Start with batch_size = 1000 to make sure every step lowers the loss, then try stochastic version."
   ]
  },
  {
   "cell_type": "code",
   "execution_count": 56,
   "metadata": {},
   "outputs": [],
   "source": [
    "# Iptimizer params\n",
    "optimizer_config = {'learning_rate' : 1e-1, 'momentum': 0.9}\n",
    "optimizer_state = {}\n",
    "\n",
    "# Looping params\n",
    "n_epoch = 20\n",
    "batch_size = 128"
   ]
  },
  {
   "cell_type": "code",
   "execution_count": 57,
   "metadata": {},
   "outputs": [],
   "source": [
    "# batch generator\n",
    "def get_batches(dataset, batch_size):\n",
    "    X, Y = dataset\n",
    "    n_samples = X.shape[0]\n",
    "        \n",
    "    # Shuffle at the start of epoch\n",
    "    indices = np.arange(n_samples)\n",
    "    np.random.shuffle(indices)\n",
    "    \n",
    "    for start in range(0, n_samples, batch_size):\n",
    "        end = min(start + batch_size, n_samples)\n",
    "        \n",
    "        batch_idx = indices[start:end]\n",
    "    \n",
    "        yield X[batch_idx], Y[batch_idx]"
   ]
  },
  {
   "cell_type": "markdown",
   "metadata": {},
   "source": [
    "### Train"
   ]
  },
  {
   "cell_type": "markdown",
   "metadata": {},
   "source": [
    "Basic training loop. Examine it."
   ]
  },
  {
   "cell_type": "code",
   "execution_count": 58,
   "metadata": {
    "scrolled": false
   },
   "outputs": [
    {
     "data": {
      "image/png": "[encoded data removed]",
      "text/plain": [
       "<Figure size 800x600 with 1 Axes>"
      ]
     },
     "metadata": {},
     "output_type": "display_data"
    },
    {
     "name": "stdout",
     "output_type": "stream",
     "text": [
      "Current loss: 0.004739\n"
     ]
    }
   ],
   "source": [
    "loss_history = []\n",
    "\n",
    "for i in range(n_epoch):\n",
    "    for x_batch, y_batch in get_batches((X, Y), batch_size):\n",
    "        \n",
    "        net.zeroGradParameters()\n",
    "        \n",
    "        # Forward\n",
    "        predictions = net.forward(x_batch)\n",
    "        loss = criterion.forward(predictions, y_batch)\n",
    "    \n",
    "        # Backward\n",
    "        dp = criterion.backward(predictions, y_batch)\n",
    "        net.backward(x_batch, dp)\n",
    "        \n",
    "        # Update weights\n",
    "        sgd_momentum(net.getParameters(), \n",
    "                     net.getGradParameters(), \n",
    "                     optimizer_config,\n",
    "                     optimizer_state)      \n",
    "        \n",
    "        loss_history.append(loss)\n",
    "\n",
    "    # Visualize\n",
    "    display.clear_output(wait=True)\n",
    "    plt.figure(figsize=(8, 6))\n",
    "        \n",
    "    plt.title(\"Training loss\")\n",
    "    plt.xlabel(\"#iteration\")\n",
    "    plt.ylabel(\"loss\")\n",
    "    plt.plot(loss_history, 'b')\n",
    "    plt.show()\n",
    "    \n",
    "    print('Current loss: %f' % loss)    "
   ]
  },
  {
   "cell_type": "markdown",
   "metadata": {},
   "source": [
    "# Digit classification "
   ]
  },
  {
   "cell_type": "markdown",
   "metadata": {},
   "source": [
    "We are using old good [MNIST](http://yann.lecun.com/exdb/mnist/) as our dataset. It can be downloaded with the following file."
   ]
  },
  {
   "cell_type": "code",
   "execution_count": 59,
   "metadata": {},
   "outputs": [
    {
     "name": "stdout",
     "output_type": "stream",
     "text": [
      "File ‘mnist.py’ already there; not retrieving.\n",
      "\n"
     ]
    }
   ],
   "source": [
    "!wget https://raw.githubusercontent.com/girafe-ai/ml-course/23f_basic/homeworks/hw08_nn_from_scratch/mnist.py -nc"
   ]
  },
  {
   "cell_type": "code",
   "execution_count": 60,
   "metadata": {},
   "outputs": [],
   "source": [
    "import sys\n",
    "import os\n",
    "import time\n",
    "\n",
    "import numpy as np\n",
    "\n",
    "__doc__=\"\"\"taken from https://github.com/Lasagne/Lasagne/blob/master/examples/mnist.py\"\"\"\n",
    "\n",
    "def load_dataset(flatten=False):\n",
    "    # We first define a download function, supporting both Python 2 and 3.\n",
    "    if sys.version_info[0] == 2:\n",
    "        from urllib import urlretrieve\n",
    "    else:\n",
    "        from urllib.request import urlretrieve\n",
    "\n",
    "    def download(filename, source='https://storage.googleapis.com/cvdf-datasets/mnist/'):\n",
    "        print(\"Downloading %s\" % filename)\n",
    "        urlretrieve(source + filename, filename)\n",
    "\n",
    "    # We then define functions for loading MNIST images and labels.\n",
    "    # For convenience, they also download the requested files if needed.\n",
    "    import gzip\n",
    "\n",
    "    def load_mnist_images(filename):\n",
    "        if not os.path.exists(filename):\n",
    "            download(filename)\n",
    "        # Read the inputs in Yann LeCun's binary format.\n",
    "        with gzip.open(filename, 'rb') as f:\n",
    "            data = np.frombuffer(f.read(), np.uint8, offset=16)\n",
    "        # The inputs are vectors now, we reshape them to monochrome 2D images,\n",
    "        # following the shape convention: (examples, channels, rows, columns)\n",
    "        data = data.reshape(-1, 1, 28, 28)\n",
    "        # The inputs come as bytes, we convert them to float32 in range [0,1].\n",
    "        # (Actually to range [0, 255/256], for compatibility to the version\n",
    "        # provided at http://deeplearning.net/data/mnist/mnist.pkl.gz.)\n",
    "        return (data / np.float32(256)).squeeze()\n",
    "\n",
    "    def load_mnist_labels(filename):\n",
    "        if not os.path.exists(filename):\n",
    "            download(filename)\n",
    "        # Read the labels in Yann LeCun's binary format.\n",
    "        with gzip.open(filename, 'rb') as f:\n",
    "            data = np.frombuffer(f.read(), np.uint8, offset=8)\n",
    "        # The labels are vectors of integers now, that's exactly what we want.\n",
    "        return data\n",
    "\n",
    "    # We can now download and read the training and test set images and labels.\n",
    "    X_train = load_mnist_images('train-images-idx3-ubyte.gz')\n",
    "    y_train = load_mnist_labels('train-labels-idx1-ubyte.gz')\n",
    "    X_test = load_mnist_images('t10k-images-idx3-ubyte.gz')\n",
    "    y_test = load_mnist_labels('t10k-labels-idx1-ubyte.gz')\n",
    "\n",
    "    # We reserve the last 10000 training examples for validation.\n",
    "    X_train, X_val = X_train[:-10000], X_train[-10000:]\n",
    "    y_train, y_val = y_train[:-10000], y_train[-10000:]\n",
    "\n",
    "    if flatten:\n",
    "        X_train = X_train.reshape([-1, 28**2])\n",
    "        X_val = X_val.reshape([-1, 28**2])\n",
    "        X_test = X_test.reshape([-1, 28**2])\n",
    "\n",
    "\n",
    "    # We just return all the arrays in order, as expected in main().\n",
    "    # (It doesn't matter how we do this as long as we can read them again.)\n",
    "    return X_train, y_train, X_val, y_val, X_test, y_test\n"
   ]
  },
  {
   "cell_type": "code",
   "execution_count": 61,
   "metadata": {},
   "outputs": [],
   "source": [
    "X_train, y_train, X_val, y_val, X_test, y_test = load_dataset()"
   ]
  },
  {
   "cell_type": "markdown",
   "metadata": {},
   "source": [
    "One-hot encode the labels first."
   ]
  },
  {
   "cell_type": "code",
   "execution_count": 62,
   "metadata": {},
   "outputs": [
    {
     "name": "stdout",
     "output_type": "stream",
     "text": [
      "Original y_train shape: (50000,)\n",
      "One-hot encoded y_train shape: (50000, 10)\n"
     ]
    }
   ],
   "source": [
    "def one_hot_encode(y, num_classes=10):\n",
    "    return np.eye(num_classes)[y]\n",
    "\n",
    "y_train_one_hot = one_hot_encode(y_train)\n",
    "y_val_one_hot = one_hot_encode(y_val)\n",
    "y_test_one_hot = one_hot_encode(y_test)\n",
    "\n",
    "print(\"Original y_train shape:\", y_train.shape)\n",
    "print(\"One-hot encoded y_train shape:\", y_train_one_hot.shape)"
   ]
  },
  {
   "cell_type": "markdown",
   "metadata": {},
   "source": [
    "- **Compare** `ReLU`, `ELU`, `LeakyReLU`, `SoftPlus` activation functions. \n",
    "You would better pick the best optimizer params for each of them, but it is overkill for now. Use an architecture of your choice for the comparison.\n",
    "- **Try** inserting `BatchNormalization` (folowed by `ChannelwiseScaling`) between `Linear` module and activation functions.\n",
    "- Plot the losses both from activation functions comparison and `BatchNormalization` comparison on one plot. Please find a scale (log?) when the lines are distinguishable, do not forget about naming the axes, the plot should be goodlooking.\n",
    "- Plot the losses for two networks: one trained by momentum_sgd, another one trained by Adam. Which one performs better?\n",
    "- Hint: good logloss for MNIST should be around 0.5. "
   ]
  },
  {
   "cell_type": "code",
   "execution_count": 63,
   "metadata": {},
   "outputs": [],
   "source": [
    "# Your code goes here. ################################################"
   ]
  },
  {
   "cell_type": "markdown",
   "metadata": {},
   "source": [
    "Write your personal opinion on the activation functions, think about computation times too. Does `BatchNormalization` help?"
   ]
  },
  {
   "cell_type": "code",
   "execution_count": 64,
   "metadata": {},
   "outputs": [],
   "source": [
    "# Your answer goes here. ################################################"
   ]
  },
  {
   "cell_type": "markdown",
   "metadata": {},
   "source": [
    "**Finally**, use all your knowledge to build a super cool model on this dataset. Use **dropout** to prevent overfitting, play with **learning rate decay**. You can use **data augmentation** such as rotations, translations to boost your score. Use your knowledge and imagination to train a model. Don't forget to call `training()` and `evaluate()` methods to set desired behaviour of `BatchNormalization` and `Dropout` layers."
   ]
  },
  {
   "cell_type": "code",
   "execution_count": 65,
   "metadata": {},
   "outputs": [
    {
     "name": "stdout",
     "output_type": "stream",
     "text": [
      "Training ReLU model...\n",
      "Epoch 1/5, Train Loss: 0.6878, Val Loss: 0.3166\n",
      "Epoch 2/5, Train Loss: 0.3150, Val Loss: 0.2613\n",
      "Epoch 3/5, Train Loss: 0.2653, Val Loss: 0.2280\n"
     ]
    },
    {
     "ename": "KeyboardInterrupt",
     "evalue": "",
     "output_type": "error",
     "traceback": [
      "\u001b[0;31m---------------------------------------------------------------------------\u001b[0m",
      "\u001b[0;31mKeyboardInterrupt\u001b[0m                         Traceback (most recent call last)",
      "Cell \u001b[0;32mIn[65], line 86\u001b[0m\n\u001b[1;32m     84\u001b[0m \u001b[38;5;66;03m# Train models\u001b[39;00m\n\u001b[1;32m     85\u001b[0m \u001b[38;5;28mprint\u001b[39m(\u001b[38;5;124m\"\u001b[39m\u001b[38;5;124mTraining ReLU model...\u001b[39m\u001b[38;5;124m\"\u001b[39m)\n\u001b[0;32m---> 86\u001b[0m relu_train_loss, relu_val_loss \u001b[38;5;241m=\u001b[39m train_model(\n\u001b[1;32m     87\u001b[0m     relu_model, criterion, optimizer_config, sgd_momentum, \n\u001b[1;32m     88\u001b[0m     X_train_flat, y_train_one_hot, X_val_flat, y_val_one_hot, n_epochs\u001b[38;5;241m=\u001b[39m\u001b[38;5;241m5\u001b[39m\n\u001b[1;32m     89\u001b[0m )\n\u001b[1;32m     91\u001b[0m \u001b[38;5;28mprint\u001b[39m(\u001b[38;5;124m\"\u001b[39m\u001b[38;5;130;01m\\n\u001b[39;00m\u001b[38;5;124mTraining ELU model...\u001b[39m\u001b[38;5;124m\"\u001b[39m)\n\u001b[1;32m     92\u001b[0m elu_train_loss, elu_val_loss \u001b[38;5;241m=\u001b[39m train_model(\n\u001b[1;32m     93\u001b[0m     elu_model, criterion, optimizer_config, sgd_momentum, \n\u001b[1;32m     94\u001b[0m     X_train_flat, y_train_one_hot, X_val_flat, y_val_one_hot, n_epochs\u001b[38;5;241m=\u001b[39m\u001b[38;5;241m5\u001b[39m\n\u001b[1;32m     95\u001b[0m )\n",
      "Cell \u001b[0;32mIn[65], line 30\u001b[0m, in \u001b[0;36mtrain_model\u001b[0;34m(model, criterion, optimizer_config, optimizer_func, X_train, y_train, X_val, y_val, n_epochs, batch_size)\u001b[0m\n\u001b[1;32m     28\u001b[0m \u001b[38;5;66;03m# Backward\u001b[39;00m\n\u001b[1;32m     29\u001b[0m dp \u001b[38;5;241m=\u001b[39m criterion\u001b[38;5;241m.\u001b[39mbackward(predictions, y_batch)\n\u001b[0;32m---> 30\u001b[0m model\u001b[38;5;241m.\u001b[39mbackward(x_batch, dp)\n\u001b[1;32m     32\u001b[0m \u001b[38;5;66;03m# Update weights\u001b[39;00m\n\u001b[1;32m     33\u001b[0m optimizer_func(model\u001b[38;5;241m.\u001b[39mgetParameters(), \n\u001b[1;32m     34\u001b[0m              model\u001b[38;5;241m.\u001b[39mgetGradParameters(), \n\u001b[1;32m     35\u001b[0m              optimizer_config,\n\u001b[1;32m     36\u001b[0m              optimizer_state)\n",
      "File \u001b[0;32m/var/folders/d3/zcslj2712p57dfxhz77sfh8r0000gn/T/ipykernel_47963/2520834772.py:74\u001b[0m, in \u001b[0;36mSequential.backward\u001b[0;34m(self, input, gradOutput)\u001b[0m\n\u001b[1;32m     71\u001b[0m current_input \u001b[38;5;241m=\u001b[39m \u001b[38;5;28minput\u001b[39m\n\u001b[1;32m     73\u001b[0m \u001b[38;5;28;01mfor\u001b[39;00m i \u001b[38;5;129;01min\u001b[39;00m \u001b[38;5;28mrange\u001b[39m(\u001b[38;5;28mlen\u001b[39m(\u001b[38;5;28mself\u001b[39m\u001b[38;5;241m.\u001b[39mmodules) \u001b[38;5;241m-\u001b[39m \u001b[38;5;241m1\u001b[39m):\n\u001b[0;32m---> 74\u001b[0m     current_input \u001b[38;5;241m=\u001b[39m \u001b[38;5;28mself\u001b[39m\u001b[38;5;241m.\u001b[39mmodules[i]\u001b[38;5;241m.\u001b[39mforward(current_input)\n\u001b[1;32m     75\u001b[0m     inputs\u001b[38;5;241m.\u001b[39mappend(current_input)\n\u001b[1;32m     77\u001b[0m \u001b[38;5;66;03m# Now perform the backward pass\u001b[39;00m\n",
      "File \u001b[0;32m/var/folders/d3/zcslj2712p57dfxhz77sfh8r0000gn/T/ipykernel_47963/1342133365.py:24\u001b[0m, in \u001b[0;36mModule.forward\u001b[0;34m(self, input)\u001b[0m\n\u001b[1;32m     20\u001b[0m \u001b[38;5;28;01mdef\u001b[39;00m \u001b[38;5;21mforward\u001b[39m(\u001b[38;5;28mself\u001b[39m, \u001b[38;5;28minput\u001b[39m):\n\u001b[1;32m     21\u001b[0m \u001b[38;5;250m    \u001b[39m\u001b[38;5;124;03m\"\"\"\u001b[39;00m\n\u001b[1;32m     22\u001b[0m \u001b[38;5;124;03m    Takes an input object, and computes the corresponding output of the module.\u001b[39;00m\n\u001b[1;32m     23\u001b[0m \u001b[38;5;124;03m    \"\"\"\u001b[39;00m\n\u001b[0;32m---> 24\u001b[0m     \u001b[38;5;28;01mreturn\u001b[39;00m \u001b[38;5;28mself\u001b[39m\u001b[38;5;241m.\u001b[39mupdateOutput(\u001b[38;5;28minput\u001b[39m)\n",
      "File \u001b[0;32m/var/folders/d3/zcslj2712p57dfxhz77sfh8r0000gn/T/ipykernel_47963/2032222597.py:22\u001b[0m, in \u001b[0;36mLinear.updateOutput\u001b[0;34m(self, input)\u001b[0m\n\u001b[1;32m     19\u001b[0m \u001b[38;5;28;01mdef\u001b[39;00m \u001b[38;5;21mupdateOutput\u001b[39m(\u001b[38;5;28mself\u001b[39m, \u001b[38;5;28minput\u001b[39m):\n\u001b[1;32m     20\u001b[0m     \u001b[38;5;66;03m# Your code goes here. ################################################\u001b[39;00m\n\u001b[1;32m     21\u001b[0m     \u001b[38;5;66;03m# Linear transformation: output = input * W^T + b\u001b[39;00m\n\u001b[0;32m---> 22\u001b[0m     \u001b[38;5;28mself\u001b[39m\u001b[38;5;241m.\u001b[39moutput \u001b[38;5;241m=\u001b[39m np\u001b[38;5;241m.\u001b[39mdot(\u001b[38;5;28minput\u001b[39m, \u001b[38;5;28mself\u001b[39m\u001b[38;5;241m.\u001b[39mW\u001b[38;5;241m.\u001b[39mT) \u001b[38;5;241m+\u001b[39m \u001b[38;5;28mself\u001b[39m\u001b[38;5;241m.\u001b[39mb\n\u001b[1;32m     23\u001b[0m     \u001b[38;5;28;01mreturn\u001b[39;00m \u001b[38;5;28mself\u001b[39m\u001b[38;5;241m.\u001b[39moutput\n",
      "\u001b[0;31mKeyboardInterrupt\u001b[0m: "
     ]
    }
   ],
   "source": [
    "# Your code goes here. ################################################\n",
    "# Flatten the input data\n",
    "X_train_flat = X_train.reshape(X_train.shape[0], -1)\n",
    "X_val_flat = X_val.reshape(X_val.shape[0], -1)\n",
    "X_test_flat = X_test.reshape(X_test.shape[0], -1)\n",
    "\n",
    "# Define a function to create and train a model\n",
    "def train_model(model, criterion, optimizer_config, optimizer_func, X_train, y_train, X_val, y_val, n_epochs=10, batch_size=128):\n",
    "    optimizer_state = {}\n",
    "    train_loss_history = []\n",
    "    val_loss_history = []\n",
    "    \n",
    "    for epoch in range(n_epochs):\n",
    "        # Training\n",
    "        model.train()\n",
    "        epoch_loss = 0\n",
    "        batch_count = 0\n",
    "        \n",
    "        for x_batch, y_batch in get_batches((X_train, y_train), batch_size):\n",
    "            model.zeroGradParameters()\n",
    "            \n",
    "            # Forward\n",
    "            predictions = model.forward(x_batch)\n",
    "            loss = criterion.forward(predictions, y_batch)\n",
    "            epoch_loss += loss\n",
    "            batch_count += 1\n",
    "            \n",
    "            # Backward\n",
    "            dp = criterion.backward(predictions, y_batch)\n",
    "            model.backward(x_batch, dp)\n",
    "            \n",
    "            # Update weights\n",
    "            optimizer_func(model.getParameters(), \n",
    "                         model.getGradParameters(), \n",
    "                         optimizer_config,\n",
    "                         optimizer_state)\n",
    "        \n",
    "        train_loss = epoch_loss / batch_count\n",
    "        train_loss_history.append(train_loss)\n",
    "        \n",
    "        # Validation\n",
    "        model.evaluate()\n",
    "        val_predictions = model.forward(X_val)\n",
    "        val_loss = criterion.forward(val_predictions, y_val)\n",
    "        val_loss_history.append(val_loss)\n",
    "        \n",
    "        print(f'Epoch {epoch+1}/{n_epochs}, Train Loss: {train_loss:.4f}, Val Loss: {val_loss:.4f}')\n",
    "    \n",
    "    return train_loss_history, val_loss_history\n",
    "\n",
    "# Define a function to calculate accuracy\n",
    "def calculate_accuracy(model, X, y):\n",
    "    model.evaluate()\n",
    "    predictions = model.forward(X)\n",
    "    predicted_classes = np.argmax(predictions, axis=1)\n",
    "    true_classes = np.argmax(y, axis=1)\n",
    "    accuracy = np.mean(predicted_classes == true_classes)\n",
    "    return accuracy\n",
    "\n",
    "# 1. Compare different activation functions\n",
    "input_size = 28 * 28\n",
    "hidden_size = 100\n",
    "output_size = 10\n",
    "\n",
    "# Create models with different activation functions\n",
    "def create_model(activation_class, *args):\n",
    "    model = Sequential()\n",
    "    model.add(Linear(input_size, hidden_size))\n",
    "    model.add(activation_class(*args))\n",
    "    model.add(Linear(hidden_size, output_size))\n",
    "    model.add(LogSoftMax())\n",
    "    return model\n",
    "\n",
    "# Initialize models\n",
    "relu_model = create_model(ReLU)\n",
    "elu_model = create_model(ELU, 1.0)\n",
    "leaky_relu_model = create_model(LeakyReLU, 0.01)\n",
    "softplus_model = create_model(SoftPlus)\n",
    "\n",
    "# Define criterion and optimizer config\n",
    "criterion = ClassNLLCriterion()\n",
    "optimizer_config = {'learning_rate': 0.01, 'momentum': 0.9}\n",
    "\n",
    "# Train models\n",
    "print(\"Training ReLU model...\")\n",
    "relu_train_loss, relu_val_loss = train_model(\n",
    "    relu_model, criterion, optimizer_config, sgd_momentum, \n",
    "    X_train_flat, y_train_one_hot, X_val_flat, y_val_one_hot, n_epochs=5\n",
    ")\n",
    "\n",
    "print(\"\\nTraining ELU model...\")\n",
    "elu_train_loss, elu_val_loss = train_model(\n",
    "    elu_model, criterion, optimizer_config, sgd_momentum, \n",
    "    X_train_flat, y_train_one_hot, X_val_flat, y_val_one_hot, n_epochs=5\n",
    ")\n",
    "\n",
    "print(\"\\nTraining LeakyReLU model...\")\n",
    "leaky_relu_train_loss, leaky_relu_val_loss = train_model(\n",
    "    leaky_relu_model, criterion, optimizer_config, sgd_momentum, \n",
    "    X_train_flat, y_train_one_hot, X_val_flat, y_val_one_hot, n_epochs=5\n",
    ")\n",
    "\n",
    "print(\"\\nTraining SoftPlus model...\")\n",
    "softplus_train_loss, softplus_val_loss = train_model(\n",
    "    softplus_model, criterion, optimizer_config, sgd_momentum, \n",
    "    X_train_flat, y_train_one_hot, X_val_flat, y_val_one_hot, n_epochs=5\n",
    ")\n",
    "\n",
    "# 2. Try BatchNormalization\n",
    "def create_model_with_bn(activation_class, *args):\n",
    "    model = Sequential()\n",
    "    model.add(Linear(input_size, hidden_size))\n",
    "    model.add(BatchNormalization(0.9))\n",
    "    model.add(ChannelwiseScaling(hidden_size))\n",
    "    model.add(activation_class(*args))\n",
    "    model.add(Linear(hidden_size, output_size))\n",
    "    model.add(LogSoftMax())\n",
    "    return model\n",
    "\n",
    "# Initialize model with BatchNormalization\n",
    "relu_bn_model = create_model_with_bn(ReLU)\n",
    "\n",
    "print(\"\\nTraining ReLU model with BatchNormalization...\")\n",
    "relu_bn_train_loss, relu_bn_val_loss = train_model(\n",
    "    relu_bn_model, criterion, optimizer_config, sgd_momentum, \n",
    "    X_train_flat, y_train_one_hot, X_val_flat, y_val_one_hot, n_epochs=5\n",
    ")\n",
    "\n",
    "# 3. Compare SGD with Adam\n",
    "# Create a new model for Adam\n",
    "relu_adam_model = create_model(ReLU)\n",
    "\n",
    "# Adam optimizer config\n",
    "adam_config = {'learning_rate': 0.001, 'beta1': 0.9, 'beta2': 0.999, 'epsilon': 1e-8}\n",
    "\n",
    "print(\"\\nTraining ReLU model with Adam optimizer...\")\n",
    "relu_adam_train_loss, relu_adam_val_loss = train_model(\n",
    "    relu_adam_model, criterion, adam_config, adam_optimizer, \n",
    "    X_train_flat, y_train_one_hot, X_val_flat, y_val_one_hot, n_epochs=5\n",
    ")\n",
    "\n",
    "# Plot the results\n",
    "plt.figure(figsize=(12, 8))\n",
    "\n",
    "# Plot validation losses for different activation functions\n",
    "plt.subplot(2, 1, 1)\n",
    "plt.semilogy(relu_val_loss, label='ReLU')\n",
    "plt.semilogy(elu_val_loss, label='ELU')\n",
    "plt.semilogy(leaky_relu_val_loss, label='LeakyReLU')\n",
    "plt.semilogy(softplus_val_loss, label='SoftPlus')\n",
    "plt.semilogy(relu_bn_val_loss, label='ReLU with BatchNorm')\n",
    "plt.title('Validation Loss Comparison (Activation Functions & BatchNorm)')\n",
    "plt.xlabel('Epoch')\n",
    "plt.ylabel('Log Loss')\n",
    "plt.legend()\n",
    "plt.grid(True)\n",
    "\n",
    "# Plot validation losses for SGD vs Adam\n",
    "plt.subplot(2, 1, 2)\n",
    "plt.semilogy(relu_val_loss, label='ReLU with SGD')\n",
    "plt.semilogy(relu_adam_val_loss, label='ReLU with Adam')\n",
    "plt.title('Validation Loss Comparison (SGD vs Adam)')\n",
    "plt.xlabel('Epoch')\n",
    "plt.ylabel('Log Loss')\n",
    "plt.legend()\n",
    "plt.grid(True)\n",
    "\n",
    "plt.tight_layout()\n",
    "plt.show()\n",
    "\n",
    "# Calculate and print accuracies\n",
    "print(\"\\nAccuracies on validation set:\")\n",
    "print(f\"ReLU: {calculate_accuracy(relu_model, X_val_flat, y_val_one_hot):.4f}\")\n",
    "print(f\"ELU: {calculate_accuracy(elu_model, X_val_flat, y_val_one_hot):.4f}\")\n",
    "print(f\"LeakyReLU: {calculate_accuracy(leaky_relu_model, X_val_flat, y_val_one_hot):.4f}\")\n",
    "print(f\"SoftPlus: {calculate_accuracy(softplus_model, X_val_flat, y_val_one_hot):.4f}\")\n",
    "print(f\"ReLU with BatchNorm: {calculate_accuracy(relu_bn_model, X_val_flat, y_val_one_hot):.4f}\")\n",
    "print(f\"ReLU with Adam: {calculate_accuracy(relu_adam_model, X_val_flat, y_val_one_hot):.4f}\")"
   ]
  },
  {
   "cell_type": "markdown",
   "metadata": {},
   "source": [
    "Print here your accuracy on test set. It should be around 90%."
   ]
  },
  {
   "cell_type": "code",
   "execution_count": null,
   "metadata": {},
   "outputs": [
    {
     "name": "stdout",
     "output_type": "stream",
     "text": [
      "Training advanced model...\n",
      "Epoch 1/15, LR: 0.050000, Train Loss: 2.7226, Val Loss: 3.8539\n",
      "Epoch 2/15, LR: 0.050000, Train Loss: 37.0466, Val Loss: 36.7422\n",
      "Epoch 3/15, LR: 0.050000, Train Loss: 458.2231, Val Loss: 542.3616\n",
      "Epoch 4/15, LR: 0.005000, Train Loss: 1010.5544, Val Loss: 344.1253\n"
     ]
    },
    {
     "ename": "KeyboardInterrupt",
     "evalue": "",
     "output_type": "error",
     "traceback": [
      "\u001b[0;31m---------------------------------------------------------------------------\u001b[0m",
      "\u001b[0;31mKeyboardInterrupt\u001b[0m                         Traceback (most recent call last)",
      "Cell \u001b[0;32mIn[37], line 84\u001b[0m\n\u001b[1;32m     81\u001b[0m criterion \u001b[38;5;241m=\u001b[39m ClassNLLCriterion()\n\u001b[1;32m     83\u001b[0m \u001b[38;5;28mprint\u001b[39m(\u001b[38;5;124m\"\u001b[39m\u001b[38;5;124mTraining advanced model...\u001b[39m\u001b[38;5;124m\"\u001b[39m)\n\u001b[0;32m---> 84\u001b[0m advanced_train_loss, advanced_val_loss \u001b[38;5;241m=\u001b[39m train_model_with_lr_decay(\n\u001b[1;32m     85\u001b[0m     advanced_model, criterion, sgd_momentum, \n\u001b[1;32m     86\u001b[0m     X_train_flat, y_train_one_hot, X_val_flat, y_val_one_hot,\n\u001b[1;32m     87\u001b[0m     initial_lr\u001b[38;5;241m=\u001b[39m\u001b[38;5;241m0.05\u001b[39m, momentum\u001b[38;5;241m=\u001b[39m\u001b[38;5;241m0.9\u001b[39m, n_epochs\u001b[38;5;241m=\u001b[39m\u001b[38;5;241m15\u001b[39m\n\u001b[1;32m     88\u001b[0m )\n",
      "Cell \u001b[0;32mIn[37], line 34\u001b[0m, in \u001b[0;36mtrain_model_with_lr_decay\u001b[0;34m(model, criterion, optimizer_func, X_train, y_train, X_val, y_val, initial_lr, momentum, n_epochs, batch_size)\u001b[0m\n\u001b[1;32m     32\u001b[0m \u001b[38;5;66;03m# Backward\u001b[39;00m\n\u001b[1;32m     33\u001b[0m dp \u001b[38;5;241m=\u001b[39m criterion\u001b[38;5;241m.\u001b[39mbackward(predictions, y_batch)\n\u001b[0;32m---> 34\u001b[0m model\u001b[38;5;241m.\u001b[39mbackward(x_batch, dp)\n\u001b[1;32m     36\u001b[0m \u001b[38;5;66;03m# Update weights\u001b[39;00m\n\u001b[1;32m     37\u001b[0m optimizer_func(model\u001b[38;5;241m.\u001b[39mgetParameters(), \n\u001b[1;32m     38\u001b[0m              model\u001b[38;5;241m.\u001b[39mgetGradParameters(), \n\u001b[1;32m     39\u001b[0m              optimizer_config,\n\u001b[1;32m     40\u001b[0m              optimizer_state)\n",
      "File \u001b[0;32m/var/folders/d3/zcslj2712p57dfxhz77sfh8r0000gn/T/ipykernel_47963/975152187.py:84\u001b[0m, in \u001b[0;36mSequential.backward\u001b[0;34m(self, input, gradOutput)\u001b[0m\n\u001b[1;32m     82\u001b[0m     module \u001b[38;5;241m=\u001b[39m \u001b[38;5;28mself\u001b[39m\u001b[38;5;241m.\u001b[39mmodules[i]\n\u001b[1;32m     83\u001b[0m     module_input \u001b[38;5;241m=\u001b[39m intermediate_inputs[i]\n\u001b[0;32m---> 84\u001b[0m     current_grad \u001b[38;5;241m=\u001b[39m module\u001b[38;5;241m.\u001b[39mbackward(module_input, current_grad)\n\u001b[1;32m     86\u001b[0m \u001b[38;5;28mself\u001b[39m\u001b[38;5;241m.\u001b[39mgradInput \u001b[38;5;241m=\u001b[39m current_grad\n\u001b[1;32m     87\u001b[0m \u001b[38;5;28;01mreturn\u001b[39;00m \u001b[38;5;28mself\u001b[39m\u001b[38;5;241m.\u001b[39mgradInput\n",
      "File \u001b[0;32m/var/folders/d3/zcslj2712p57dfxhz77sfh8r0000gn/T/ipykernel_47963/1342133365.py:34\u001b[0m, in \u001b[0;36mModule.backward\u001b[0;34m(self, input, gradOutput)\u001b[0m\n\u001b[1;32m     26\u001b[0m \u001b[38;5;28;01mdef\u001b[39;00m \u001b[38;5;21mbackward\u001b[39m(\u001b[38;5;28mself\u001b[39m,\u001b[38;5;28minput\u001b[39m, gradOutput):\n\u001b[1;32m     27\u001b[0m \u001b[38;5;250m    \u001b[39m\u001b[38;5;124;03m\"\"\"\u001b[39;00m\n\u001b[1;32m     28\u001b[0m \u001b[38;5;124;03m    Performs a backpropagation step through the module, with respect to the given input.\u001b[39;00m\n\u001b[1;32m     29\u001b[0m \u001b[38;5;124;03m    \u001b[39;00m\n\u001b[0;32m   (...)\u001b[0m\n\u001b[1;32m     32\u001b[0m \u001b[38;5;124;03m     - computing a gradient w.r.t. parameters (to update parameters while optimizing).\u001b[39;00m\n\u001b[1;32m     33\u001b[0m \u001b[38;5;124;03m    \"\"\"\u001b[39;00m\n\u001b[0;32m---> 34\u001b[0m     \u001b[38;5;28mself\u001b[39m\u001b[38;5;241m.\u001b[39mupdateGradInput(\u001b[38;5;28minput\u001b[39m, gradOutput)\n\u001b[1;32m     35\u001b[0m     \u001b[38;5;28mself\u001b[39m\u001b[38;5;241m.\u001b[39maccGradParameters(\u001b[38;5;28minput\u001b[39m, gradOutput)\n\u001b[1;32m     36\u001b[0m     \u001b[38;5;28;01mreturn\u001b[39;00m \u001b[38;5;28mself\u001b[39m\u001b[38;5;241m.\u001b[39mgradInput\n",
      "File \u001b[0;32m/var/folders/d3/zcslj2712p57dfxhz77sfh8r0000gn/T/ipykernel_47963/908022283.py:52\u001b[0m, in \u001b[0;36mBatchNormalization.updateGradInput\u001b[0;34m(self, input, gradOutput)\u001b[0m\n\u001b[1;32m     49\u001b[0m dx_normalized \u001b[38;5;241m=\u001b[39m gradOutput\n\u001b[1;32m     51\u001b[0m \u001b[38;5;66;03m# Gradient with respect to variance\u001b[39;00m\n\u001b[0;32m---> 52\u001b[0m dvar \u001b[38;5;241m=\u001b[39m np\u001b[38;5;241m.\u001b[39msum(dx_normalized \u001b[38;5;241m*\u001b[39m \u001b[38;5;28mself\u001b[39m\u001b[38;5;241m.\u001b[39mx_centered \u001b[38;5;241m*\u001b[39m \u001b[38;5;241m-\u001b[39m\u001b[38;5;241m0.5\u001b[39m \u001b[38;5;241m*\u001b[39m np\u001b[38;5;241m.\u001b[39mpower(\u001b[38;5;28mself\u001b[39m\u001b[38;5;241m.\u001b[39mbatch_var \u001b[38;5;241m+\u001b[39m \u001b[38;5;28mself\u001b[39m\u001b[38;5;241m.\u001b[39mEPS, \u001b[38;5;241m-\u001b[39m\u001b[38;5;241m1.5\u001b[39m), axis\u001b[38;5;241m=\u001b[39m\u001b[38;5;241m0\u001b[39m)\n\u001b[1;32m     54\u001b[0m \u001b[38;5;66;03m# Gradient with respect to mean\u001b[39;00m\n\u001b[1;32m     55\u001b[0m dmean \u001b[38;5;241m=\u001b[39m np\u001b[38;5;241m.\u001b[39msum(dx_normalized \u001b[38;5;241m*\u001b[39m \u001b[38;5;241m-\u001b[39m\u001b[38;5;241m1.0\u001b[39m \u001b[38;5;241m/\u001b[39m \u001b[38;5;28mself\u001b[39m\u001b[38;5;241m.\u001b[39mstd, axis\u001b[38;5;241m=\u001b[39m\u001b[38;5;241m0\u001b[39m) \u001b[38;5;241m+\u001b[39m dvar \u001b[38;5;241m*\u001b[39m np\u001b[38;5;241m.\u001b[39mmean(\u001b[38;5;241m-\u001b[39m\u001b[38;5;241m2.0\u001b[39m \u001b[38;5;241m*\u001b[39m \u001b[38;5;28mself\u001b[39m\u001b[38;5;241m.\u001b[39mx_centered, axis\u001b[38;5;241m=\u001b[39m\u001b[38;5;241m0\u001b[39m)\n",
      "File \u001b[0;32m/opt/homebrew/anaconda3/lib/python3.11/site-packages/numpy/core/fromnumeric.py:2313\u001b[0m, in \u001b[0;36msum\u001b[0;34m(a, axis, dtype, out, keepdims, initial, where)\u001b[0m\n\u001b[1;32m   2310\u001b[0m         \u001b[38;5;28;01mreturn\u001b[39;00m out\n\u001b[1;32m   2311\u001b[0m     \u001b[38;5;28;01mreturn\u001b[39;00m res\n\u001b[0;32m-> 2313\u001b[0m \u001b[38;5;28;01mreturn\u001b[39;00m _wrapreduction(a, np\u001b[38;5;241m.\u001b[39madd, \u001b[38;5;124m'\u001b[39m\u001b[38;5;124msum\u001b[39m\u001b[38;5;124m'\u001b[39m, axis, dtype, out, keepdims\u001b[38;5;241m=\u001b[39mkeepdims,\n\u001b[1;32m   2314\u001b[0m                       initial\u001b[38;5;241m=\u001b[39minitial, where\u001b[38;5;241m=\u001b[39mwhere)\n",
      "File \u001b[0;32m/opt/homebrew/anaconda3/lib/python3.11/site-packages/numpy/core/fromnumeric.py:88\u001b[0m, in \u001b[0;36m_wrapreduction\u001b[0;34m(obj, ufunc, method, axis, dtype, out, **kwargs)\u001b[0m\n\u001b[1;32m     85\u001b[0m         \u001b[38;5;28;01melse\u001b[39;00m:\n\u001b[1;32m     86\u001b[0m             \u001b[38;5;28;01mreturn\u001b[39;00m reduction(axis\u001b[38;5;241m=\u001b[39maxis, out\u001b[38;5;241m=\u001b[39mout, \u001b[38;5;241m*\u001b[39m\u001b[38;5;241m*\u001b[39mpasskwargs)\n\u001b[0;32m---> 88\u001b[0m \u001b[38;5;28;01mreturn\u001b[39;00m ufunc\u001b[38;5;241m.\u001b[39mreduce(obj, axis, dtype, out, \u001b[38;5;241m*\u001b[39m\u001b[38;5;241m*\u001b[39mpasskwargs)\n",
      "\u001b[0;31mKeyboardInterrupt\u001b[0m: "
     ]
    }
   ],
   "source": [
    "# Your code goes here. ################################################\n",
    "# Define a function for learning rate decay\n",
    "def learning_rate_decay(initial_lr, epoch, decay_rate=0.1, decay_steps=3):\n",
    "    return initial_lr * (decay_rate ** (epoch // decay_steps))\n",
    "\n",
    "# Define a function to train with learning rate decay\n",
    "def train_model_with_lr_decay(model, criterion, optimizer_func, X_train, y_train, X_val, y_val, \n",
    "                             initial_lr=0.01, momentum=0.9, n_epochs=15, batch_size=128):\n",
    "    optimizer_state = {}\n",
    "    train_loss_history = []\n",
    "    val_loss_history = []\n",
    "    \n",
    "    for epoch in range(n_epochs):\n",
    "        # Update learning rate\n",
    "        current_lr = learning_rate_decay(initial_lr, epoch)\n",
    "        optimizer_config = {'learning_rate': current_lr, 'momentum': momentum}\n",
    "        \n",
    "        # Training\n",
    "        model.train()\n",
    "        epoch_loss = 0\n",
    "        batch_count = 0\n",
    "        \n",
    "        for x_batch, y_batch in get_batches((X_train, y_train), batch_size):\n",
    "            model.zeroGradParameters()\n",
    "            \n",
    "            # Forward\n",
    "            predictions = model.forward(x_batch)\n",
    "            loss = criterion.forward(predictions, y_batch)\n",
    "            epoch_loss += loss\n",
    "            batch_count += 1\n",
    "            \n",
    "            # Backward\n",
    "            dp = criterion.backward(predictions, y_batch)\n",
    "            model.backward(x_batch, dp)\n",
    "            \n",
    "            # Update weights\n",
    "            optimizer_func(model.getParameters(), \n",
    "                         model.getGradParameters(), \n",
    "                         optimizer_config,\n",
    "                         optimizer_state)\n",
    "        \n",
    "        train_loss = epoch_loss / batch_count\n",
    "        train_loss_history.append(train_loss)\n",
    "        \n",
    "        # Validation\n",
    "        model.evaluate()\n",
    "        val_predictions = model.forward(X_val)\n",
    "        val_loss = criterion.forward(val_predictions, y_val)\n",
    "        val_loss_history.append(val_loss)\n",
    "        \n",
    "        print(f'Epoch {epoch+1}/{n_epochs}, LR: {current_lr:.6f}, Train Loss: {train_loss:.4f}, Val Loss: {val_loss:.4f}')\n",
    "    \n",
    "    return train_loss_history, val_loss_history\n",
    "\n",
    "# Build a more advanced model\n",
    "def create_advanced_model():\n",
    "    model = Sequential()\n",
    "    \n",
    "    # First layer\n",
    "    model.add(Linear(input_size, 256))\n",
    "    model.add(BatchNormalization(0.9))\n",
    "    model.add(ChannelwiseScaling(256))\n",
    "    model.add(LeakyReLU(0.01))\n",
    "    model.add(Dropout(0.2))\n",
    "    \n",
    "    # Second layer\n",
    "    model.add(Linear(256, 128))\n",
    "    model.add(BatchNormalization(0.9))\n",
    "    model.add(ChannelwiseScaling(128))\n",
    "    model.add(LeakyReLU(0.01))\n",
    "    model.add(Dropout(0.3))\n",
    "    \n",
    "    # Output layer\n",
    "    model.add(Linear(128, output_size))\n",
    "    model.add(LogSoftMax())\n",
    "    \n",
    "    return model\n",
    "\n",
    "# Create and train the advanced model\n",
    "advanced_model = create_advanced_model()\n",
    "criterion = ClassNLLCriterion()\n",
    "\n",
    "print(\"Training advanced model...\")\n",
    "advanced_train_loss, advanced_val_loss = train_model_with_lr_decay(\n",
    "    advanced_model, criterion, sgd_momentum, \n",
    "    X_train_flat, y_train_one_hot, X_val_flat, y_val_one_hot,\n",
    "    initial_lr=0.05, momentum=0.9, n_epochs=15\n",
    ")"
   ]
  },
  {
   "cell_type": "markdown",
   "metadata": {},
   "source": [
    "### Comparing with PyTorch implementation\n",
    "The last (and maybe the easiest) step after compared to the previous tasks: build a network with the same architecture as above now with PyTorch.\n",
    "\n",
    "__Good Luck!__"
   ]
  },
  {
   "cell_type": "code",
   "execution_count": null,
   "metadata": {},
   "outputs": [],
   "source": [
    "# Your beautiful code here."
   ]
  }
 ],
 "metadata": {
  "kernelspec": {
   "display_name": "base",
   "language": "python",
   "name": "python3"
  },
  "language_info": {
   "codemirror_mode": {
    "name": "ipython",
    "version": 3
   },
   "file_extension": ".py",
   "mimetype": "text/x-python",
   "name": "python",
   "nbconvert_exporter": "python",
   "pygments_lexer": "ipython3",
   "version": "3.11.11"
  }
 },
 "nbformat": 4,
 "nbformat_minor": 1
}
