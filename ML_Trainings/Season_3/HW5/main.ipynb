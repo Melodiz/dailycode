{
 "cells": [
  {
   "cell_type": "code",
   "execution_count": 9,
   "id": "dfd7e2a1",
   "metadata": {},
   "outputs": [],
   "source": [
    "import pandas as pd\n",
    "import numpy as np\n",
    "from catboost import CatBoostClassifier\n",
    "from sklearn.model_selection import train_test_split\n",
    "from sklearn.metrics import accuracy_score, classification_report, roc_auc_score\n"
   ]
  },
  {
   "cell_type": "code",
   "execution_count": 10,
   "id": "b64f7997",
   "metadata": {},
   "outputs": [],
   "source": [
    "train_df = pd.read_csv('train.csv')\n",
    "test_df = pd.read_csv('test.csv')\n",
    "# Separate features and target\n",
    "X = train_df.drop('target', axis=1, errors='ignore')  # Assuming 'target' is the column name, adjust if different\n",
    "y = train_df['target'] if 'target' in train_df.columns else None\n"
   ]
  },
  {
   "cell_type": "code",
   "execution_count": 15,
   "id": "bb66a337",
   "metadata": {},
   "outputs": [
    {
     "name": "stdout",
     "output_type": "stream",
     "text": [
      "Training set shape: (1030, 16)\n",
      "Validation set shape: (258, 16)\n"
     ]
    },
    {
     "data": {
      "application/vnd.jupyter.widget-view+json": {
       "model_id": "926ed547393540899bcd22f2589125bb",
       "version_major": 2,
       "version_minor": 0
      },
      "text/plain": [
       "MetricVisualizer(layout=Layout(align_self='stretch', height='500px'))"
      ]
     },
     "metadata": {},
     "output_type": "display_data"
    },
    {
     "name": "stdout",
     "output_type": "stream",
     "text": [
      "0:\tlearn: 0.8572816\ttest: 0.8372093\tbest: 0.8372093 (0)\ttotal: 4.71ms\tremaining: 47.1s\n",
      "100:\tlearn: 0.9310680\ttest: 0.8604651\tbest: 0.8643411 (7)\ttotal: 349ms\tremaining: 34.3s\n",
      "200:\tlearn: 0.9640777\ttest: 0.8643411\tbest: 0.8643411 (7)\ttotal: 957ms\tremaining: 46.7s\n",
      "300:\tlearn: 0.9825243\ttest: 0.8604651\tbest: 0.8643411 (7)\ttotal: 1.44s\tremaining: 46.3s\n",
      "400:\tlearn: 0.9932039\ttest: 0.8527132\tbest: 0.8643411 (7)\ttotal: 1.93s\tremaining: 46.2s\n",
      "500:\tlearn: 0.9980583\ttest: 0.8565891\tbest: 0.8643411 (7)\ttotal: 2.49s\tremaining: 47.3s\n",
      "Stopped by overfitting detector  (500 iterations wait)\n",
      "\n",
      "bestTest = 0.8643410853\n",
      "bestIteration = 7\n",
      "\n",
      "Shrink model to first 8 iterations.\n",
      "\n",
      "Validation Metrics:\n",
      "Accuracy: 0.8643\n",
      "ROC AUC: 0.9256\n",
      "\n",
      "Classification Report:\n",
      "              precision    recall  f1-score   support\n",
      "\n",
      "           0       0.86      0.83      0.85       116\n",
      "           1       0.86      0.89      0.88       142\n",
      "\n",
      "    accuracy                           0.86       258\n",
      "   macro avg       0.86      0.86      0.86       258\n",
      "weighted avg       0.86      0.86      0.86       258\n",
      "\n",
      "\n",
      "Predictions saved to 'catboost_submission.csv'\n"
     ]
    }
   ],
   "source": [
    "# Split the data into training and validation sets\n",
    "X_train, X_val, y_train, y_val = train_test_split(X, y, test_size=0.2, random_state=42)\n",
    "\n",
    "print(f\"Training set shape: {X_train.shape}\")\n",
    "print(f\"Validation set shape: {X_val.shape}\")\n",
    "\n",
    "# Initialize CatBoost model\n",
    "model = CatBoostClassifier(\n",
    "    iterations=10000,\n",
    "    learning_rate=0.03,\n",
    "    depth=8,\n",
    "    loss_function='Logloss',\n",
    "    eval_metric='Accuracy',\n",
    "    random_seed=42,\n",
    "    early_stopping_rounds=500,\n",
    "    verbose=100\n",
    ")\n",
    "\n",
    "# Train the model\n",
    "model.fit(\n",
    "    X_train, y_train,\n",
    "    eval_set=(X_val, y_val),\n",
    "    use_best_model=True,\n",
    "    plot=True\n",
    ")\n",
    "\n",
    "# Evaluate the model on validation set\n",
    "val_preds = model.predict(X_val)\n",
    "val_probs = model.predict_proba(X_val)[:, 1]\n",
    "\n",
    "print(\"\\nValidation Metrics:\")\n",
    "print(f\"Accuracy: {accuracy_score(y_val, val_preds):.4f}\")\n",
    "print(f\"ROC AUC: {roc_auc_score(y_val, val_probs):.4f}\")\n",
    "print(\"\\nClassification Report:\")\n",
    "print(classification_report(y_val, val_preds))\n",
    "\n",
    "# Make predictions on test data\n",
    "test_preds = model.predict_proba(test_df)[:, 1]\n",
    "\n",
    "# Create submission dataframe\n",
    "submission = pd.DataFrame({\n",
    "    'id': test_df.index,\n",
    "    'prediction': test_preds\n",
    "})\n",
    "\n",
    "# Save predictions to file\n",
    "submission.to_csv('catboost_submission.csv', index=False)\n",
    "print(\"\\nPredictions saved to 'catboost_submission.csv'\")"
   ]
  }
 ],
 "metadata": {
  "kernelspec": {
   "display_name": "base",
   "language": "python",
   "name": "python3"
  },
  "language_info": {
   "codemirror_mode": {
    "name": "ipython",
    "version": 3
   },
   "file_extension": ".py",
   "mimetype": "text/x-python",
   "name": "python",
   "nbconvert_exporter": "python",
   "pygments_lexer": "ipython3",
   "version": "3.11.11"
  }
 },
 "nbformat": 4,
 "nbformat_minor": 5
}
