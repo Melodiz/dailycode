{
  "cells": [
    {
      "cell_type": "markdown",
      "metadata": {
        "id": "nDsVMGiVgSq2"
      },
      "source": [
        "## Переобучение нейронных сетей и борьба с ним\n",
        "\n",
        "##### Автор: [Радослав Нейчев](https://www.linkedin.com/in/radoslav-neychev/), https://t.me/girafe_ai"
      ]
    },
    {
      "cell_type": "code",
      "execution_count": null,
      "metadata": {
        "id": "3isBRG6PgSq6"
      },
      "outputs": [],
      "source": [
        "# do not change the code in the block below\n",
        "# __________start of block__________\n",
        "import json\n",
        "import os\n",
        "import re\n",
        "\n",
        "import numpy as np\n",
        "import torch\n",
        "import torchvision\n",
        "from IPython.display import clear_output\n",
        "from matplotlib import pyplot as plt\n",
        "from torch import nn\n",
        "from torch.nn import functional as F\n",
        "from torchvision.datasets import FashionMNIST\n",
        "\n",
        "# __________end of block__________"
      ]
    },
    {
      "cell_type": "code",
      "execution_count": null,
      "metadata": {
        "id": "EtkvHPeOsRWg"
      },
      "outputs": [],
      "source": [
        "# do not change the code in the block below\n",
        "# __________start of block__________\n",
        "\n",
        "def args_and_kwargs(*args, **kwargs):\n",
        "    return args, kwargs\n",
        "\n",
        "def parse_pytorch_model(model_str):\n",
        "    def parse_layer(layer_str):\n",
        "        layer_name, params = layer_str.split(\"(\", 1)\n",
        "        layer_info = {\"type\": layer_name.strip()}\n",
        "        params_template = layer_str.replace(layer_name, \"args_and_kwargs\")\n",
        "\n",
        "        param_dict = {}\n",
        "        if len(params):\n",
        "            args, kwargs = eval(params_template)\n",
        "            if len(args) or len(kwargs):\n",
        "                param_dict[\"args\"] = args\n",
        "                for name, value in kwargs.items():\n",
        "                    param_dict[name] = value\n",
        "        layer_info[\"parameters\"] = param_dict\n",
        "        return layer_info\n",
        "\n",
        "    model_dict = {}\n",
        "    lines = model_str.splitlines()\n",
        "    model_name = lines[0].strip(\"()\")\n",
        "    model_dict[\"model_name\"] = model_name\n",
        "    model_dict[\"layers\"] = []\n",
        "\n",
        "    layer_regex = re.compile(r\"\\((\\d+)\\): (.+)\")\n",
        "    for line in lines[1:]:\n",
        "        line = line.strip()\n",
        "        match = layer_regex.match(line)\n",
        "        if match:\n",
        "            index, layer = match.groups()\n",
        "            model_dict[\"layers\"].append({\"index\": int(index), \"layer\": parse_layer(layer)})\n",
        "    return model_dict\n",
        "\n",
        "# __________end of block__________"
      ]
    },
    {
      "cell_type": "code",
      "execution_count": null,
      "metadata": {
        "id": "rghGdcWEsRWg"
      },
      "outputs": [],
      "source": [
        "# do not change the code in the block below\n",
        "# __________start of block__________\n",
        "def get_predictions(model, eval_data, step=10):\n",
        "\n",
        "    predicted_labels = []\n",
        "    model.eval()\n",
        "    with torch.no_grad():\n",
        "        for idx in range(0, len(eval_data), step):\n",
        "            y_predicted = model(eval_data[idx : idx + step].to(device))\n",
        "            predicted_labels.append(y_predicted.argmax(dim=1).cpu())\n",
        "\n",
        "    predicted_labels = torch.cat(predicted_labels)\n",
        "    predicted_labels = \",\".join([str(x.item()) for x in list(predicted_labels)])\n",
        "    return predicted_labels\n",
        "\n",
        "\n",
        "def get_accuracy(model, data_loader):\n",
        "    predicted_labels = []\n",
        "    real_labels = []\n",
        "    model.eval()\n",
        "    with torch.no_grad():\n",
        "        for batch in data_loader:\n",
        "            y_predicted = model(batch[0].to(device))\n",
        "            predicted_labels.append(y_predicted.argmax(dim=1).cpu())\n",
        "            real_labels.append(batch[1])\n",
        "\n",
        "    predicted_labels = torch.cat(predicted_labels)\n",
        "    real_labels = torch.cat(real_labels)\n",
        "    accuracy_score = (predicted_labels == real_labels).type(torch.FloatTensor).mean()\n",
        "    return accuracy_score\n",
        "\n",
        "\n",
        "# __________end of block__________"
      ]
    },
    {
      "cell_type": "markdown",
      "metadata": {
        "id": "bcYVLIcosRWg"
      },
      "source": [
        "Загрузите файл `hw_overfitting_data_dict.npy` (ссылка есть на странице с заданием), он понадобится для генерации посылок. Код ниже может его загрузить (но в случае возникновения ошибки скачайте и загрузите его вручную).\n"
      ]
    },
    {
      "cell_type": "code",
      "execution_count": null,
      "metadata": {
        "colab": {
          "base_uri": "https://localhost:8080/"
        },
        "id": "lA7JHHl5sRWh",
        "outputId": "ae771174-8114-4970-89d5-a9cfc6bbbc50"
      },
      "outputs": [
        {
          "output_type": "stream",
          "name": "stdout",
          "text": [
            "--2025-04-19 15:37:05--  https://github.com/girafe-ai/ml-course/raw/24f_ysda/homeworks/hw_overfitting/hw_overfitting_data_dict\n",
            "Resolving github.com (github.com)... 140.82.121.4\n",
            "Connecting to github.com (github.com)|140.82.121.4|:443... connected.\n",
            "HTTP request sent, awaiting response... 302 Found\n",
            "Location: https://raw.githubusercontent.com/girafe-ai/ml-course/24f_ysda/homeworks/hw_overfitting/hw_overfitting_data_dict [following]\n",
            "--2025-04-19 15:37:06--  https://raw.githubusercontent.com/girafe-ai/ml-course/24f_ysda/homeworks/hw_overfitting/hw_overfitting_data_dict\n",
            "Resolving raw.githubusercontent.com (raw.githubusercontent.com)... 185.199.108.133, 185.199.109.133, 185.199.110.133, ...\n",
            "Connecting to raw.githubusercontent.com (raw.githubusercontent.com)|185.199.108.133|:443... connected.\n",
            "HTTP request sent, awaiting response... 200 OK\n",
            "Length: 6272446 (6.0M) [application/octet-stream]\n",
            "Saving to: ‘hw_overfitting_data_dict.npy’\n",
            "\n",
            "hw_overfitting_data 100%[===================>]   5.98M  --.-KB/s    in 0.03s   \n",
            "\n",
            "2025-04-19 15:37:06 (172 MB/s) - ‘hw_overfitting_data_dict.npy’ saved [6272446/6272446]\n",
            "\n"
          ]
        }
      ],
      "source": [
        "!wget https://github.com/girafe-ai/ml-course/raw/24f_ysda/homeworks/hw_overfitting/hw_overfitting_data_dict -O hw_overfitting_data_dict.npy"
      ]
    },
    {
      "cell_type": "code",
      "execution_count": null,
      "metadata": {
        "id": "8TeIPa6ssRWh"
      },
      "outputs": [],
      "source": [
        "# do not change the code in the block below\n",
        "# __________start of block__________\n",
        "assert os.path.exists(\n",
        "    \"hw_overfitting_data_dict.npy\"\n",
        "), \"Please, download `hw_overfitting_data_dict.npy` and place it in the working directory\"\n",
        "\n",
        "# __________end of block__________"
      ]
    },
    {
      "cell_type": "markdown",
      "metadata": {
        "id": "zeA6Q5-CgSq7"
      },
      "source": [
        "### Задача №1 (уже решённая): Создание и обучение модели (Separation)\n",
        "Вы уже решали эту задачу ранее, так что сейчас просто воспроизведите своё решение. Оно понадобится вам в дальнейших шагах.\n",
        "__Ваша первая задача всё та же: реализовать весь пайплан обучения модели и добиться качества $\\geq 88.5\\%$ на тестовой выборке.__\n"
      ]
    },
    {
      "cell_type": "code",
      "execution_count": null,
      "metadata": {
        "id": "f_bjRZ7PsRWh"
      },
      "outputs": [],
      "source": [
        "CUDA_DEVICE_ID = 0  # change if needed"
      ]
    },
    {
      "cell_type": "code",
      "execution_count": null,
      "metadata": {
        "id": "nPG1KbQAgl8b"
      },
      "outputs": [],
      "source": [
        "# do not change the code in the block below\n",
        "# __________start of block__________\n",
        "device = (\n",
        "    torch.device(f\"cuda:{CUDA_DEVICE_ID}\") if torch.cuda.is_available() else torch.device(\"cpu\")\n",
        ")\n",
        "# __________end of block__________"
      ]
    },
    {
      "cell_type": "code",
      "execution_count": null,
      "metadata": {
        "colab": {
          "base_uri": "https://localhost:8080/",
          "height": 541
        },
        "id": "aYcL28OsgSq8",
        "outputId": "c33f43bc-fe7e-49f5-ddec-a1051d4ba0c8"
      },
      "outputs": [
        {
          "output_type": "stream",
          "name": "stderr",
          "text": [
            "100%|██████████| 26.4M/26.4M [00:00<00:00, 115MB/s]\n",
            "100%|██████████| 29.5k/29.5k [00:00<00:00, 3.58MB/s]\n",
            "100%|██████████| 4.42M/4.42M [00:00<00:00, 41.3MB/s]\n",
            "100%|██████████| 5.15k/5.15k [00:00<00:00, 9.30MB/s]\n"
          ]
        },
        {
          "output_type": "execute_result",
          "data": {
            "text/plain": [
              "Text(0.5, 1.0, 'Image label: 8')"
            ]
          },
          "metadata": {},
          "execution_count": 8
        },
        {
          "output_type": "display_data",
          "data": {
            "text/plain": [
              "<Figure size 640x480 with 1 Axes>"
            ],
            "image/png": "[encoded data removed]"
          },
          "metadata": {}
        }
      ],
      "source": [
        "# do not change the code in the block below\n",
        "# __________start of block__________\n",
        "\n",
        "train_fmnist_data = FashionMNIST(\n",
        "    \".\", train=True, transform=torchvision.transforms.ToTensor(), download=True\n",
        ")\n",
        "test_fmnist_data = FashionMNIST(\n",
        "    \".\", train=False, transform=torchvision.transforms.ToTensor(), download=True\n",
        ")\n",
        "\n",
        "\n",
        "train_data_loader = torch.utils.data.DataLoader(\n",
        "    train_fmnist_data, batch_size=32, shuffle=True, num_workers=2\n",
        ")\n",
        "\n",
        "test_data_loader = torch.utils.data.DataLoader(\n",
        "    test_fmnist_data, batch_size=32, shuffle=False, num_workers=2\n",
        ")\n",
        "\n",
        "random_batch = next(iter(train_data_loader))\n",
        "_image, _label = random_batch[0][0], random_batch[1][0]\n",
        "plt.figure()\n",
        "plt.imshow(_image.reshape(28, 28))\n",
        "plt.title(f\"Image label: {_label}\")\n",
        "# __________end of block__________"
      ]
    },
    {
      "cell_type": "markdown",
      "metadata": {
        "id": "S6jWRv1rgSq8"
      },
      "source": [
        "Постройте модель ниже. Пожалуйста, не стройте переусложненную сеть, не стоит делать ее глубже четырех слоев (можно и меньше). Ваша основная задача – обучить модель и получить качество на отложенной (тестовой выборке) не менее 88.5% accuracy.\n",
        "\n",
        "__Внимание, ваша модель должна быть представлена именно переменной `model_task_1`. На вход ей должен приходить тензор размерностью (1, 28, 28).__"
      ]
    },
    {
      "cell_type": "code",
      "execution_count": null,
      "metadata": {
        "id": "BcyEFX-RgSq8"
      },
      "outputs": [],
      "source": [
        "# Creating model instance\n",
        "model_task_1 = torch.nn.Sequential(\n",
        "    torch.nn.Conv2d(1, 32, kernel_size=3, stride=1, padding=1),\n",
        "    torch.nn.ReLU(),\n",
        "    torch.nn.MaxPool2d(kernel_size=2),\n",
        "    torch.nn.Conv2d(32, 64, kernel_size=3, stride=1, padding=1),\n",
        "    torch.nn.ReLU(),\n",
        "    torch.nn.MaxPool2d(kernel_size=2),\n",
        "    torch.nn.Flatten(),\n",
        "    torch.nn.Linear(64 * 7 * 7, 128),\n",
        "    torch.nn.ReLU(),\n",
        "    torch.nn.Linear(128, 10)\n",
        ")"
      ]
    },
    {
      "cell_type": "markdown",
      "metadata": {
        "id": "bAoLV4dkoy5M"
      },
      "source": [
        "Не забудьте перенести модель на выбранный `device`!"
      ]
    },
    {
      "cell_type": "code",
      "execution_count": null,
      "metadata": {
        "id": "Xas9SIXDoxvZ",
        "colab": {
          "base_uri": "https://localhost:8080/"
        },
        "outputId": "7e9d5611-d599-4ad8-90d2-111760d37a1e"
      },
      "outputs": [
        {
          "output_type": "execute_result",
          "data": {
            "text/plain": [
              "Sequential(\n",
              "  (0): Conv2d(1, 32, kernel_size=(3, 3), stride=(1, 1), padding=(1, 1))\n",
              "  (1): ReLU()\n",
              "  (2): MaxPool2d(kernel_size=2, stride=2, padding=0, dilation=1, ceil_mode=False)\n",
              "  (3): Conv2d(32, 64, kernel_size=(3, 3), stride=(1, 1), padding=(1, 1))\n",
              "  (4): ReLU()\n",
              "  (5): MaxPool2d(kernel_size=2, stride=2, padding=0, dilation=1, ceil_mode=False)\n",
              "  (6): Flatten(start_dim=1, end_dim=-1)\n",
              "  (7): Linear(in_features=3136, out_features=128, bias=True)\n",
              "  (8): ReLU()\n",
              "  (9): Linear(in_features=128, out_features=10, bias=True)\n",
              ")"
            ]
          },
          "metadata": {},
          "execution_count": 10
        }
      ],
      "source": [
        "model_task_1.to(device)"
      ]
    },
    {
      "cell_type": "markdown",
      "metadata": {
        "id": "6pLRWysggSq9"
      },
      "source": [
        "Локальные тесты для проверки вашей модели доступны ниже:"
      ]
    },
    {
      "cell_type": "code",
      "execution_count": null,
      "metadata": {
        "colab": {
          "base_uri": "https://localhost:8080/"
        },
        "id": "_qMQzo1ggSq9",
        "outputId": "94c6a384-4c09-4f3a-eb50-e0768cc02797"
      },
      "outputs": [
        {
          "output_type": "stream",
          "name": "stdout",
          "text": [
            "Everything seems fine!\n"
          ]
        }
      ],
      "source": [
        "# do not change the code in the block below\n",
        "# __________start of block__________\n",
        "assert model_task_1 is not None, \"Please, use `model_task_1` variable to store your model\"\n",
        "\n",
        "try:\n",
        "    x = random_batch[0].to(device)\n",
        "    y = random_batch[1].to(device)\n",
        "\n",
        "    # compute outputs given inputs, both are variables\n",
        "    y_predicted = model_task_1(x)\n",
        "except Exception as e:\n",
        "    print(\"Something is wrong with the model\")\n",
        "    raise e\n",
        "\n",
        "\n",
        "assert y_predicted.shape[-1] == 10, \"Model should predict 10 logits/probas\"\n",
        "\n",
        "print(\"Everything seems fine!\")\n",
        "# __________end of block__________"
      ]
    },
    {
      "cell_type": "markdown",
      "metadata": {
        "id": "suRmIPwIgSq9"
      },
      "source": [
        "Настройте параметры модели на обучающей выборке. Также рекомендуем поработать с `learning rate`."
      ]
    },
    {
      "cell_type": "code",
      "execution_count": null,
      "metadata": {
        "id": "YJnU14bdnZa_",
        "colab": {
          "base_uri": "https://localhost:8080/"
        },
        "collapsed": true,
        "outputId": "ca44e5f3-bea4-4467-ef7c-ab3029805106"
      },
      "outputs": [
        {
          "output_type": "stream",
          "name": "stdout",
          "text": [
            "Epoch: 0, Loss: 0.9182999730110168\n",
            "Epoch: 1, Loss: 0.9358166456222534\n",
            "Epoch: 2, Loss: 0.9454500079154968\n",
            "Epoch: 3, Loss: 0.956083357334137\n",
            "Epoch: 4, Loss: 0.9580833315849304\n",
            "Epoch: 5, Loss: 0.9577500224113464\n",
            "Epoch: 6, Loss: 0.9730666875839233\n",
            "Epoch: 7, Loss: 0.9764000177383423\n"
          ]
        }
      ],
      "source": [
        "learning_rate = 0.001\n",
        "optimizer = torch.optim.AdamW(model_task_1.parameters(), lr=learning_rate)\n",
        "\n",
        "for epoch in range(8):\n",
        "    model_task_1.train()\n",
        "    loss_function = torch.nn.CrossEntropyLoss()\n",
        "    for batch in train_data_loader:\n",
        "        x, y = batch[0].to(device), batch[1].to(device)\n",
        "        optimizer.zero_grad()\n",
        "        y_predicted = model_task_1(x)\n",
        "        loss = loss_function(y_predicted, y)\n",
        "        loss.backward()\n",
        "        optimizer.step()\n",
        "        # print(f\"Epoch: {epoch}, Loss: {loss.item()}\")\n",
        "    print(f'Epoch: {epoch}, Loss: {get_accuracy(model_task_1, train_data_loader)}')"
      ]
    },
    {
      "cell_type": "markdown",
      "metadata": {
        "id": "2zce7gt1gSq-"
      },
      "source": [
        "Также, напоминаем, что в любой момент можно обратиться к замечательной [документации](https://pytorch.org/docs/stable/index.html) и [обучающим примерам](https://pytorch.org/tutorials/).  "
      ]
    },
    {
      "cell_type": "markdown",
      "metadata": {
        "id": "usswrWYOgSq-"
      },
      "source": [
        "Оценим качество классификации:"
      ]
    },
    {
      "cell_type": "code",
      "execution_count": null,
      "metadata": {
        "id": "Xua3TVZHgSq-",
        "colab": {
          "base_uri": "https://localhost:8080/"
        },
        "outputId": "03259cc4-fa6f-44b7-8d46-7ce3604038fb"
      },
      "outputs": [
        {
          "output_type": "stream",
          "name": "stdout",
          "text": [
            "Neural network accuracy on train set: 0.9764\n"
          ]
        }
      ],
      "source": [
        "train_acc_task_1 = get_accuracy(model_task_1, train_data_loader)\n",
        "print(f\"Neural network accuracy on train set: {train_acc_task_1:3.5}\")"
      ]
    },
    {
      "cell_type": "code",
      "execution_count": null,
      "metadata": {
        "id": "l9KEKXBxgSq-",
        "colab": {
          "base_uri": "https://localhost:8080/"
        },
        "outputId": "8367c1a1-4aea-4ca0-8f23-d527531c0972"
      },
      "outputs": [
        {
          "output_type": "stream",
          "name": "stdout",
          "text": [
            "Neural network accuracy on test set: 0.9187\n"
          ]
        }
      ],
      "source": [
        "test_acc_task_1 = get_accuracy(model_task_1, test_data_loader)\n",
        "print(f\"Neural network accuracy on test set: {test_acc_task_1:3.5}\")"
      ]
    },
    {
      "cell_type": "markdown",
      "metadata": {
        "id": "4oyhmMobgSq_"
      },
      "source": [
        "Проверка, что необходимые пороги пройдены:"
      ]
    },
    {
      "cell_type": "code",
      "execution_count": null,
      "metadata": {
        "id": "OAIrURCEgSq_"
      },
      "outputs": [],
      "source": [
        "assert test_acc_task_1 >= 0.885, \"Train accuracy is below 0.885 threshold\"\n",
        "assert (\n",
        "    train_acc_task_1 >= 0.905\n",
        "), \"Test accuracy is below 0.905 while test accuracy is fine. We recommend to check your model and data flow\""
      ]
    },
    {
      "cell_type": "markdown",
      "metadata": {
        "id": "JpLcsSYisRWj"
      },
      "source": [
        "Обращаем внимане, код ниже предполагает, что ваша модель имеет содержится в переменной `model_task_1`."
      ]
    },
    {
      "cell_type": "code",
      "execution_count": null,
      "metadata": {
        "colab": {
          "base_uri": "https://localhost:8080/"
        },
        "id": "CJ5Vty7xsRWj",
        "outputId": "34b7cf24-7e56-4aed-bcfc-bf02b24acabc"
      },
      "outputs": [
        {
          "output_type": "stream",
          "name": "stdout",
          "text": [
            "File saved to `submission_dict_task_1.json`\n"
          ]
        }
      ],
      "source": [
        "# do not change the code in the block below\n",
        "# __________start of block__________\n",
        "assert os.path.exists(\n",
        "    \"hw_overfitting_data_dict.npy\"\n",
        "), \"Please, download `hw_overfitting_data_dict.npy` and place it in the working directory\"\n",
        "\n",
        "loaded_data_dict = np.load(\"hw_overfitting_data_dict.npy\", allow_pickle=True)\n",
        "\n",
        "submission_dict = {\n",
        "    \"train_predictions_task_1\": get_predictions(\n",
        "        model_task_1, torch.FloatTensor(loaded_data_dict.item()[\"train\"])\n",
        "    ),\n",
        "    \"test_predictions_task_1\": get_predictions(\n",
        "        model_task_1, torch.FloatTensor(loaded_data_dict.item()[\"test\"])\n",
        "    ),\n",
        "    \"model_task_1\": parse_pytorch_model(str(model_task_1)),\n",
        "}\n",
        "\n",
        "with open(\"submission_dict_task_1.json\", \"w\") as iofile:\n",
        "    json.dump(submission_dict, iofile)\n",
        "print(\"File saved to `submission_dict_task_1.json`\")\n",
        "# __________end of block__________"
      ]
    },
    {
      "cell_type": "markdown",
      "metadata": {
        "id": "AjfaHLL6sRWj"
      },
      "source": [
        "### Задача №2: Переобучение (Initiation)\n",
        "Продолжим работу с набором данных [FashionMNIST](https://github.com/zalandoresearch/fashion-mnist). Теперь ваша задача продемонстрировать переобучение модели на обучающей выборке. Достаточно показать, что точность классификации (не только функция потерь!) на тестовой выборке значительно отстает от обучающей.\n",
        "\n",
        "Обращаем ваше внимание, в задаче №3 вам придется починить данную модель (минимизировать эффект переобучения) с помощью механизмов регуляризации, поэтому не переусердствуйте!\n",
        "\n",
        "__Ваша вторая задача: реализовать используя пайплан обучения модели продемонстрировать переобучения модели на обучающей выборке.__\n",
        "\n",
        "Код для обучения модели вы можете переиспользовать. Далее присутствует лишь несколько тестов, которые помогут вам проверить свое решение."
      ]
    },
    {
      "cell_type": "markdown",
      "metadata": {
        "id": "ZidGWPQIsRWj"
      },
      "source": [
        "Обращаем внимание, вам необходимо использовать переменную `model_task_2` для хранение модели во второй задаче.\n",
        "\n",
        "Не используйте `Dropout` и `BatchNorm` в этой задаче"
      ]
    },
    {
      "cell_type": "code",
      "execution_count": null,
      "metadata": {
        "id": "Ye1jQdw8sRWj"
      },
      "outputs": [],
      "source": [
        "# Creating model instance\n",
        "# I want to use Small ResNet, with skip-connections\n",
        "# but without batchNorm\n",
        "\n",
        "class ResidualBlock(nn.Module):\n",
        "    def __init__(self, in_channels, out_channels, stride=1):\n",
        "        super(ResidualBlock, self).__init__()\n",
        "\n",
        "        self.main_path = nn.Sequential(\n",
        "            nn.Conv2d(in_channels, out_channels, kernel_size=3, stride=stride, padding=1, bias=True),\n",
        "            nn.ReLU(inplace=True),\n",
        "            nn.Conv2d(out_channels, out_channels, kernel_size=3, padding=1, bias=True)\n",
        "        )\n",
        "\n",
        "        # skip connection\n",
        "        self.shortcut = nn.Sequential()\n",
        "        if stride != 1 or in_channels != out_channels:\n",
        "            self.shortcut = nn.Sequential(\n",
        "                nn.Conv2d(in_channels, out_channels, kernel_size=1, stride=stride, bias=True)\n",
        "            )\n",
        "    def forward(self, x):\n",
        "        return nn.functional.relu(self.main_path(x)+self.shortcut(x))\n",
        "\n",
        "class ResNet_overfit(nn.Module):\n",
        "    def __init__(self):\n",
        "        super(ResNet_overfit, self).__init__()\n",
        "\n",
        "        self.initial = nn.Sequential(\n",
        "            nn.Conv2d(1, 64, kernel_size=3, stride=1, padding=1, bias=True),\n",
        "            nn.ReLU(inplace=True)\n",
        "        )\n",
        "\n",
        "        # Res-blocks\n",
        "        self.res_block1 = ResidualBlock(64, 64)\n",
        "        self.res_block2 = ResidualBlock(64, 128, stride=2)\n",
        "        self.res_block3 = ResidualBlock(128, 256, stride=2)\n",
        "\n",
        "        # classifier\n",
        "        self.classifier = nn.Sequential(\n",
        "            nn.AdaptiveAvgPool2d(output_size=(1, 1)),\n",
        "            nn.Flatten(),\n",
        "            nn.Linear(256, 10),\n",
        "        )\n",
        "    def forward(self, x):\n",
        "        x = self.initial(x)\n",
        "        x = self.res_block1(x)\n",
        "        x = self.res_block2(x)\n",
        "        x = self.res_block3(x)\n",
        "        x = self.classifier(x)\n",
        "        return x\n",
        "\n",
        "model_task_2 = ResNet_overfit()"
      ]
    },
    {
      "cell_type": "code",
      "execution_count": null,
      "metadata": {
        "colab": {
          "base_uri": "https://localhost:8080/"
        },
        "id": "6T8FsRsNsRWj",
        "outputId": "bd4461c9-e81e-4ec9-b4de-492e13c693e4"
      },
      "outputs": [
        {
          "output_type": "stream",
          "name": "stdout",
          "text": [
            "Epoch: 1/20, Batch: 100, Loss: 0.3088\n",
            "Epoch: 1/20, Batch: 200, Loss: 0.2986\n",
            "Epoch: 1/20, Batch: 300, Loss: 0.2920\n",
            "Epoch: 1/20, Batch: 400, Loss: 0.2778\n",
            "Epoch: 1/20, Batch: 500, Loss: 0.2989\n",
            "Epoch: 1/20, Batch: 600, Loss: 0.2927\n",
            "Epoch: 1/20, Batch: 700, Loss: 0.2721\n",
            "Epoch: 1/20, Batch: 800, Loss: 0.2845\n",
            "Epoch: 1/20, Batch: 900, Loss: 0.2807\n",
            "Epoch: 1/20, Batch: 1000, Loss: 0.2811\n",
            "Epoch: 1/20, Batch: 1100, Loss: 0.3075\n",
            "Epoch: 1/20, Batch: 1200, Loss: 0.2818\n",
            "Epoch: 1/20, Batch: 1300, Loss: 0.2629\n",
            "Epoch: 1/20, Batch: 1400, Loss: 0.2710\n",
            "Epoch: 1/20, Batch: 1500, Loss: 0.2681\n",
            "Epoch: 1/20, Batch: 1600, Loss: 0.2782\n",
            "Epoch: 1/20, Batch: 1700, Loss: 0.2634\n",
            "Epoch: 1/20, Batch: 1800, Loss: 0.2700\n",
            "Epoch 1/20:\n",
            "  Train Accuracy: 0.9102\n",
            "  Test Accuracy: 0.8967\n",
            "  Gap: 0.0135\n",
            "Epoch: 2/20, Batch: 100, Loss: 0.2440\n",
            "Epoch: 2/20, Batch: 200, Loss: 0.2473\n",
            "Epoch: 2/20, Batch: 300, Loss: 0.2296\n",
            "Epoch: 2/20, Batch: 400, Loss: 0.2281\n",
            "Epoch: 2/20, Batch: 500, Loss: 0.2490\n",
            "Epoch: 2/20, Batch: 600, Loss: 0.2066\n",
            "Epoch: 2/20, Batch: 700, Loss: 0.2289\n",
            "Epoch: 2/20, Batch: 800, Loss: 0.2388\n",
            "Epoch: 2/20, Batch: 900, Loss: 0.2484\n",
            "Epoch: 2/20, Batch: 1000, Loss: 0.2215\n",
            "Epoch: 2/20, Batch: 1100, Loss: 0.2346\n",
            "Epoch: 2/20, Batch: 1200, Loss: 0.2558\n",
            "Epoch: 2/20, Batch: 1300, Loss: 0.2196\n",
            "Epoch: 2/20, Batch: 1400, Loss: 0.2070\n",
            "Epoch: 2/20, Batch: 1500, Loss: 0.2520\n",
            "Epoch: 2/20, Batch: 1600, Loss: 0.2196\n",
            "Epoch: 2/20, Batch: 1700, Loss: 0.2309\n",
            "Epoch: 2/20, Batch: 1800, Loss: 0.2433\n",
            "Epoch 2/20:\n",
            "  Train Accuracy: 0.9332\n",
            "  Test Accuracy: 0.9174\n",
            "  Gap: 0.0158\n",
            "Epoch: 3/20, Batch: 100, Loss: 0.1775\n",
            "Epoch: 3/20, Batch: 200, Loss: 0.1924\n",
            "Epoch: 3/20, Batch: 300, Loss: 0.2016\n",
            "Epoch: 3/20, Batch: 400, Loss: 0.2062\n",
            "Epoch: 3/20, Batch: 500, Loss: 0.2324\n",
            "Epoch: 3/20, Batch: 600, Loss: 0.1995\n",
            "Epoch: 3/20, Batch: 700, Loss: 0.1974\n",
            "Epoch: 3/20, Batch: 800, Loss: 0.2035\n",
            "Epoch: 3/20, Batch: 900, Loss: 0.2088\n",
            "Epoch: 3/20, Batch: 1000, Loss: 0.2134\n",
            "Epoch: 3/20, Batch: 1100, Loss: 0.2023\n",
            "Epoch: 3/20, Batch: 1200, Loss: 0.2195\n",
            "Epoch: 3/20, Batch: 1300, Loss: 0.2138\n",
            "Epoch: 3/20, Batch: 1400, Loss: 0.2053\n",
            "Epoch: 3/20, Batch: 1500, Loss: 0.1985\n",
            "Epoch: 3/20, Batch: 1600, Loss: 0.1924\n",
            "Epoch: 3/20, Batch: 1700, Loss: 0.2015\n",
            "Epoch: 3/20, Batch: 1800, Loss: 0.1849\n",
            "Epoch 3/20:\n",
            "  Train Accuracy: 0.9405\n",
            "  Test Accuracy: 0.9171\n",
            "  Gap: 0.0234\n",
            "Epoch: 4/20, Batch: 100, Loss: 0.1790\n",
            "Epoch: 4/20, Batch: 200, Loss: 0.1630\n",
            "Epoch: 4/20, Batch: 300, Loss: 0.1721\n",
            "Epoch: 4/20, Batch: 400, Loss: 0.1807\n",
            "Epoch: 4/20, Batch: 500, Loss: 0.1773\n",
            "Epoch: 4/20, Batch: 600, Loss: 0.1680\n",
            "Epoch: 4/20, Batch: 700, Loss: 0.1737\n",
            "Epoch: 4/20, Batch: 800, Loss: 0.1856\n",
            "Epoch: 4/20, Batch: 900, Loss: 0.1782\n",
            "Epoch: 4/20, Batch: 1000, Loss: 0.1864\n",
            "Epoch: 4/20, Batch: 1100, Loss: 0.1785\n",
            "Epoch: 4/20, Batch: 1200, Loss: 0.1936\n",
            "Epoch: 4/20, Batch: 1300, Loss: 0.1863\n",
            "Epoch: 4/20, Batch: 1400, Loss: 0.1760\n",
            "Epoch: 4/20, Batch: 1500, Loss: 0.1859\n",
            "Epoch: 4/20, Batch: 1600, Loss: 0.1779\n",
            "Epoch: 4/20, Batch: 1700, Loss: 0.1646\n",
            "Epoch: 4/20, Batch: 1800, Loss: 0.1816\n",
            "Epoch 4/20:\n",
            "  Train Accuracy: 0.9440\n",
            "  Test Accuracy: 0.9109\n",
            "  Gap: 0.0331\n",
            "Epoch: 5/20, Batch: 100, Loss: 0.1432\n",
            "Epoch: 5/20, Batch: 200, Loss: 0.1668\n",
            "Epoch: 5/20, Batch: 300, Loss: 0.1382\n",
            "Epoch: 5/20, Batch: 400, Loss: 0.1395\n",
            "Epoch: 5/20, Batch: 500, Loss: 0.1679\n",
            "Epoch: 5/20, Batch: 600, Loss: 0.1554\n",
            "Epoch: 5/20, Batch: 700, Loss: 0.1340\n",
            "Epoch: 5/20, Batch: 800, Loss: 0.1578\n",
            "Epoch: 5/20, Batch: 900, Loss: 0.1566\n",
            "Epoch: 5/20, Batch: 1000, Loss: 0.1522\n",
            "Epoch: 5/20, Batch: 1100, Loss: 0.1422\n",
            "Epoch: 5/20, Batch: 1200, Loss: 0.1655\n",
            "Epoch: 5/20, Batch: 1300, Loss: 0.1625\n",
            "Epoch: 5/20, Batch: 1400, Loss: 0.1571\n",
            "Epoch: 5/20, Batch: 1500, Loss: 0.1555\n",
            "Epoch: 5/20, Batch: 1600, Loss: 0.1554\n",
            "Epoch: 5/20, Batch: 1700, Loss: 0.1667\n",
            "Epoch: 5/20, Batch: 1800, Loss: 0.1690\n",
            "Epoch 5/20:\n",
            "  Train Accuracy: 0.9584\n",
            "  Test Accuracy: 0.9235\n",
            "  Gap: 0.0349\n",
            "Epoch: 6/20, Batch: 100, Loss: 0.1186\n",
            "Epoch: 6/20, Batch: 200, Loss: 0.1351\n",
            "Epoch: 6/20, Batch: 300, Loss: 0.1192\n",
            "Epoch: 6/20, Batch: 400, Loss: 0.1192\n",
            "Epoch: 6/20, Batch: 500, Loss: 0.1264\n",
            "Epoch: 6/20, Batch: 600, Loss: 0.1207\n",
            "Epoch: 6/20, Batch: 700, Loss: 0.1297\n",
            "Epoch: 6/20, Batch: 800, Loss: 0.1381\n",
            "Epoch: 6/20, Batch: 900, Loss: 0.1389\n",
            "Epoch: 6/20, Batch: 1000, Loss: 0.1263\n",
            "Epoch: 6/20, Batch: 1100, Loss: 0.1268\n",
            "Epoch: 6/20, Batch: 1200, Loss: 0.1311\n",
            "Epoch: 6/20, Batch: 1300, Loss: 0.1432\n",
            "Epoch: 6/20, Batch: 1400, Loss: 0.1437\n",
            "Epoch: 6/20, Batch: 1500, Loss: 0.1401\n",
            "Epoch: 6/20, Batch: 1600, Loss: 0.1125\n",
            "Epoch: 6/20, Batch: 1700, Loss: 0.1436\n",
            "Epoch: 6/20, Batch: 1800, Loss: 0.1420\n",
            "Epoch 6/20:\n",
            "  Train Accuracy: 0.9660\n",
            "  Test Accuracy: 0.9236\n",
            "  Gap: 0.0424\n",
            "Epoch: 7/20, Batch: 100, Loss: 0.0930\n",
            "Epoch: 7/20, Batch: 200, Loss: 0.1075\n",
            "Epoch: 7/20, Batch: 300, Loss: 0.0943\n",
            "Epoch: 7/20, Batch: 400, Loss: 0.1089\n",
            "Epoch: 7/20, Batch: 500, Loss: 0.1094\n",
            "Epoch: 7/20, Batch: 600, Loss: 0.0955\n",
            "Epoch: 7/20, Batch: 700, Loss: 0.1006\n",
            "Epoch: 7/20, Batch: 800, Loss: 0.1164\n",
            "Epoch: 7/20, Batch: 900, Loss: 0.1174\n",
            "Epoch: 7/20, Batch: 1000, Loss: 0.1174\n",
            "Epoch: 7/20, Batch: 1100, Loss: 0.1140\n",
            "Epoch: 7/20, Batch: 1200, Loss: 0.1042\n",
            "Epoch: 7/20, Batch: 1300, Loss: 0.1216\n",
            "Epoch: 7/20, Batch: 1400, Loss: 0.1142\n",
            "Epoch: 7/20, Batch: 1500, Loss: 0.1101\n",
            "Epoch: 7/20, Batch: 1600, Loss: 0.1094\n",
            "Epoch: 7/20, Batch: 1700, Loss: 0.1144\n",
            "Epoch: 7/20, Batch: 1800, Loss: 0.1068\n",
            "Epoch 7/20:\n",
            "  Train Accuracy: 0.9725\n",
            "  Test Accuracy: 0.9224\n",
            "  Gap: 0.0501\n",
            "Epoch: 8/20, Batch: 100, Loss: 0.0887\n",
            "Epoch: 8/20, Batch: 200, Loss: 0.0777\n",
            "Epoch: 8/20, Batch: 300, Loss: 0.0720\n",
            "Epoch: 8/20, Batch: 400, Loss: 0.0986\n",
            "Epoch: 8/20, Batch: 500, Loss: 0.0741\n",
            "Epoch: 8/20, Batch: 600, Loss: 0.0899\n",
            "Epoch: 8/20, Batch: 700, Loss: 0.0840\n",
            "Epoch: 8/20, Batch: 800, Loss: 0.0917\n",
            "Epoch: 8/20, Batch: 900, Loss: 0.1117\n",
            "Epoch: 8/20, Batch: 1000, Loss: 0.0897\n",
            "Epoch: 8/20, Batch: 1100, Loss: 0.0810\n",
            "Epoch: 8/20, Batch: 1200, Loss: 0.0865\n",
            "Epoch: 8/20, Batch: 1300, Loss: 0.1057\n",
            "Epoch: 8/20, Batch: 1400, Loss: 0.0728\n",
            "Epoch: 8/20, Batch: 1500, Loss: 0.0934\n",
            "Epoch: 8/20, Batch: 1600, Loss: 0.1041\n",
            "Epoch: 8/20, Batch: 1700, Loss: 0.1034\n",
            "Epoch: 8/20, Batch: 1800, Loss: 0.0910\n",
            "Epoch 8/20:\n",
            "  Train Accuracy: 0.9819\n",
            "  Test Accuracy: 0.9247\n",
            "  Gap: 0.0572\n",
            "Epoch: 9/20, Batch: 100, Loss: 0.0494\n",
            "Epoch: 9/20, Batch: 200, Loss: 0.0583\n",
            "Epoch: 9/20, Batch: 300, Loss: 0.0669\n",
            "Epoch: 9/20, Batch: 400, Loss: 0.0557\n",
            "Epoch: 9/20, Batch: 500, Loss: 0.0662\n",
            "Epoch: 9/20, Batch: 600, Loss: 0.0795\n",
            "Epoch: 9/20, Batch: 700, Loss: 0.0904\n",
            "Epoch: 9/20, Batch: 800, Loss: 0.0817\n",
            "Epoch: 9/20, Batch: 900, Loss: 0.0657\n",
            "Epoch: 9/20, Batch: 1000, Loss: 0.0983\n",
            "Epoch: 9/20, Batch: 1100, Loss: 0.0709\n",
            "Epoch: 9/20, Batch: 1200, Loss: 0.0727\n",
            "Epoch: 9/20, Batch: 1300, Loss: 0.0688\n",
            "Epoch: 9/20, Batch: 1400, Loss: 0.0962\n",
            "Epoch: 9/20, Batch: 1500, Loss: 0.0771\n",
            "Epoch: 9/20, Batch: 1600, Loss: 0.0758\n",
            "Epoch: 9/20, Batch: 1700, Loss: 0.0731\n",
            "Epoch: 9/20, Batch: 1800, Loss: 0.0824\n",
            "Epoch 9/20:\n",
            "  Train Accuracy: 0.9848\n",
            "  Test Accuracy: 0.9255\n",
            "  Gap: 0.0593\n",
            "Epoch: 10/20, Batch: 100, Loss: 0.0410\n",
            "Epoch: 10/20, Batch: 200, Loss: 0.0401\n",
            "Epoch: 10/20, Batch: 300, Loss: 0.0409\n",
            "Epoch: 10/20, Batch: 400, Loss: 0.0474\n",
            "Epoch: 10/20, Batch: 500, Loss: 0.0630\n",
            "Epoch: 10/20, Batch: 600, Loss: 0.0407\n",
            "Epoch: 10/20, Batch: 700, Loss: 0.0508\n",
            "Epoch: 10/20, Batch: 800, Loss: 0.0595\n",
            "Epoch: 10/20, Batch: 900, Loss: 0.0688\n",
            "Epoch: 10/20, Batch: 1000, Loss: 0.0613\n",
            "Epoch: 10/20, Batch: 1100, Loss: 0.0677\n",
            "Epoch: 10/20, Batch: 1200, Loss: 0.0506\n",
            "Epoch: 10/20, Batch: 1300, Loss: 0.0783\n",
            "Epoch: 10/20, Batch: 1400, Loss: 0.0748\n",
            "Epoch: 10/20, Batch: 1500, Loss: 0.0656\n",
            "Epoch: 10/20, Batch: 1600, Loss: 0.0649\n",
            "Epoch: 10/20, Batch: 1700, Loss: 0.0661\n",
            "Epoch: 10/20, Batch: 1800, Loss: 0.0619\n",
            "Epoch 10/20:\n",
            "  Train Accuracy: 0.9827\n",
            "  Test Accuracy: 0.9175\n",
            "  Gap: 0.0652\n",
            "Epoch: 11/20, Batch: 100, Loss: 0.0368\n",
            "Epoch: 11/20, Batch: 200, Loss: 0.0500\n",
            "Epoch: 11/20, Batch: 300, Loss: 0.0429\n",
            "Epoch: 11/20, Batch: 400, Loss: 0.0394\n",
            "Epoch: 11/20, Batch: 500, Loss: 0.0383\n",
            "Epoch: 11/20, Batch: 600, Loss: 0.0510\n",
            "Epoch: 11/20, Batch: 700, Loss: 0.0467\n",
            "Epoch: 11/20, Batch: 800, Loss: 0.0559\n",
            "Epoch: 11/20, Batch: 900, Loss: 0.0494\n",
            "Epoch: 11/20, Batch: 1000, Loss: 0.0589\n",
            "Epoch: 11/20, Batch: 1100, Loss: 0.0408\n",
            "Epoch: 11/20, Batch: 1200, Loss: 0.0660\n",
            "Epoch: 11/20, Batch: 1300, Loss: 0.0612\n",
            "Epoch: 11/20, Batch: 1400, Loss: 0.0445\n",
            "Epoch: 11/20, Batch: 1500, Loss: 0.0550\n",
            "Epoch: 11/20, Batch: 1600, Loss: 0.0579\n",
            "Epoch: 11/20, Batch: 1700, Loss: 0.0713\n",
            "Epoch: 11/20, Batch: 1800, Loss: 0.0511\n",
            "Epoch 11/20:\n",
            "  Train Accuracy: 0.9880\n",
            "  Test Accuracy: 0.9196\n",
            "  Gap: 0.0684\n",
            "Epoch: 12/20, Batch: 100, Loss: 0.0318\n",
            "Epoch: 12/20, Batch: 200, Loss: 0.0321\n",
            "Epoch: 12/20, Batch: 300, Loss: 0.0259\n",
            "Epoch: 12/20, Batch: 400, Loss: 0.0323\n",
            "Epoch: 12/20, Batch: 500, Loss: 0.0331\n",
            "Epoch: 12/20, Batch: 600, Loss: 0.0392\n",
            "Epoch: 12/20, Batch: 700, Loss: 0.0380\n",
            "Epoch: 12/20, Batch: 800, Loss: 0.0309\n",
            "Epoch: 12/20, Batch: 900, Loss: 0.0320\n",
            "Epoch: 12/20, Batch: 1000, Loss: 0.0522\n",
            "Epoch: 12/20, Batch: 1100, Loss: 0.0441\n",
            "Epoch: 12/20, Batch: 1200, Loss: 0.0560\n",
            "Epoch: 12/20, Batch: 1300, Loss: 0.0432\n",
            "Epoch: 12/20, Batch: 1400, Loss: 0.0423\n",
            "Epoch: 12/20, Batch: 1500, Loss: 0.0551\n",
            "Epoch: 12/20, Batch: 1600, Loss: 0.0566\n",
            "Epoch: 12/20, Batch: 1700, Loss: 0.0513\n",
            "Epoch: 12/20, Batch: 1800, Loss: 0.0498\n",
            "Epoch 12/20:\n",
            "  Train Accuracy: 0.9855\n",
            "  Test Accuracy: 0.9160\n",
            "  Gap: 0.0695\n",
            "Epoch: 13/20, Batch: 100, Loss: 0.0235\n",
            "Epoch: 13/20, Batch: 200, Loss: 0.0270\n",
            "Epoch: 13/20, Batch: 300, Loss: 0.0331\n",
            "Epoch: 13/20, Batch: 400, Loss: 0.0321\n",
            "Epoch: 13/20, Batch: 500, Loss: 0.0288\n",
            "Epoch: 13/20, Batch: 600, Loss: 0.0363\n",
            "Epoch: 13/20, Batch: 700, Loss: 0.0406\n",
            "Epoch: 13/20, Batch: 800, Loss: 0.0545\n",
            "Epoch: 13/20, Batch: 900, Loss: 0.0427\n",
            "Epoch: 13/20, Batch: 1000, Loss: 0.0412\n",
            "Epoch: 13/20, Batch: 1100, Loss: 0.0386\n",
            "Epoch: 13/20, Batch: 1200, Loss: 0.0296\n",
            "Epoch: 13/20, Batch: 1300, Loss: 0.0319\n",
            "Epoch: 13/20, Batch: 1400, Loss: 0.0446\n",
            "Epoch: 13/20, Batch: 1500, Loss: 0.0322\n",
            "Epoch: 13/20, Batch: 1600, Loss: 0.0328\n",
            "Epoch: 13/20, Batch: 1700, Loss: 0.0408\n",
            "Epoch: 13/20, Batch: 1800, Loss: 0.0501\n",
            "Epoch 13/20:\n",
            "  Train Accuracy: 0.9898\n",
            "  Test Accuracy: 0.9208\n",
            "  Gap: 0.0690\n",
            "Epoch: 14/20, Batch: 100, Loss: 0.0307\n",
            "Epoch: 14/20, Batch: 200, Loss: 0.0243\n",
            "Epoch: 14/20, Batch: 300, Loss: 0.0303\n",
            "Epoch: 14/20, Batch: 400, Loss: 0.0228\n",
            "Epoch: 14/20, Batch: 500, Loss: 0.0276\n",
            "Epoch: 14/20, Batch: 600, Loss: 0.0450\n",
            "Epoch: 14/20, Batch: 700, Loss: 0.0283\n",
            "Epoch: 14/20, Batch: 800, Loss: 0.0372\n",
            "Epoch: 14/20, Batch: 900, Loss: 0.0312\n",
            "Epoch: 14/20, Batch: 1000, Loss: 0.0462\n",
            "Epoch: 14/20, Batch: 1100, Loss: 0.0394\n",
            "Epoch: 14/20, Batch: 1200, Loss: 0.0407\n",
            "Epoch: 14/20, Batch: 1300, Loss: 0.0382\n",
            "Epoch: 14/20, Batch: 1400, Loss: 0.0466\n",
            "Epoch: 14/20, Batch: 1500, Loss: 0.0494\n",
            "Epoch: 14/20, Batch: 1600, Loss: 0.0367\n",
            "Epoch: 14/20, Batch: 1700, Loss: 0.0324\n",
            "Epoch: 14/20, Batch: 1800, Loss: 0.0336\n",
            "Epoch 14/20:\n",
            "  Train Accuracy: 0.9928\n",
            "  Test Accuracy: 0.9231\n",
            "  Gap: 0.0697\n",
            "\n",
            "Final Results:\n",
            "Neural network accuracy on train set: 0.9928\n",
            "Neural network accuracy on test set: 0.9231\n",
            "Accuracy gap (overfitting measure): 0.0697\n"
          ]
        }
      ],
      "source": [
        "# Move model to device\n",
        "model_task_2.to(device)\n",
        "\n",
        "learning_rate = 0.001\n",
        "optimizer = torch.optim.Adam(model_task_2.parameters(), lr=learning_rate, weight_decay=0.0)\n",
        "loss_function = torch.nn.CrossEntropyLoss()\n",
        "\n",
        "\n",
        "num_epochs = 20\n",
        "for epoch in range(num_epochs):\n",
        "    model_task_2.train()\n",
        "    running_loss = 0.0\n",
        "\n",
        "    for batch_idx, (x, y) in enumerate(train_data_loader):\n",
        "        x, y = x.to(device), y.to(device)\n",
        "\n",
        "        # Forward pass\n",
        "        optimizer.zero_grad()\n",
        "        y_predicted = model_task_2(x)\n",
        "        loss = loss_function(y_predicted, y)\n",
        "\n",
        "        # Backward pass and optimize\n",
        "        loss.backward()\n",
        "        optimizer.step()\n",
        "\n",
        "        running_loss += loss.item()\n",
        "\n",
        "        # Print statistics\n",
        "        if batch_idx % 100 == 99:  # Print every 100 mini-batches\n",
        "            print(f'Epoch: {epoch+1}/{num_epochs}, Batch: {batch_idx+1}, Loss: {running_loss/100:.4f}')\n",
        "            running_loss = 0.0\n",
        "\n",
        "    # Check training and test accuracy after each epoch\n",
        "    train_acc = get_accuracy(model_task_2, train_data_loader)\n",
        "    test_acc = get_accuracy(model_task_2, test_data_loader)\n",
        "    print(f'Epoch {epoch+1}/{num_epochs}:')\n",
        "    print(f'  Train Accuracy: {train_acc:.4f}')\n",
        "    print(f'  Test Accuracy: {test_acc:.4f}')\n",
        "    print(f'  Gap: {train_acc - test_acc:.4f}')\n",
        "\n",
        "    # Early stopping if we've achieved sufficient overfitting\n",
        "    if train_acc >= 0.99:\n",
        "        break\n",
        "\n",
        "# Final evaluation\n",
        "train_acc_task_2 = get_accuracy(model_task_2, train_data_loader)\n",
        "test_acc_task_2 = get_accuracy(model_task_2, test_data_loader)\n",
        "print(f\"\\nFinal Results:\")\n",
        "print(f\"Neural network accuracy on train set: {train_acc_task_2:.4f}\")\n",
        "print(f\"Neural network accuracy on test set: {test_acc_task_2:.4f}\")\n",
        "print(f\"Accuracy gap (overfitting measure): {train_acc_task_2 - test_acc_task_2:.4f}\")"
      ]
    },
    {
      "cell_type": "markdown",
      "metadata": {
        "id": "4xmJt0kJsRWj"
      },
      "source": [
        "Проверка архитектуры:"
      ]
    },
    {
      "cell_type": "code",
      "execution_count": null,
      "metadata": {
        "id": "UQdZyTmGsRWj"
      },
      "outputs": [],
      "source": [
        "# do not change the code in the block below\n",
        "# __________start of block__________\n",
        "layers_task_2 = []\n",
        "for element in parse_pytorch_model(str(model_task_2)).get(\"layers\", []):\n",
        "    layer_name = element[\"layer\"][\"type\"]\n",
        "    assert \"dropout\" not in layer_name.lower(), \"Do not use Dropout in Task 2!\"\n",
        "    assert \"batchnorm\" not in layer_name.lower(), \"Do not use BatchNorm in Task 2!\"\n",
        "    layers_task_2.append(layer_name)\n",
        "# __________end of block__________"
      ]
    },
    {
      "cell_type": "markdown",
      "metadata": {
        "id": "rdnjP39XsRWj"
      },
      "source": [
        "Оценим качество классификации:"
      ]
    },
    {
      "cell_type": "code",
      "execution_count": null,
      "metadata": {
        "colab": {
          "base_uri": "https://localhost:8080/"
        },
        "id": "EljN1yeVsRWk",
        "outputId": "7558c9a8-bcf5-4455-a770-9f71157a5085"
      },
      "outputs": [
        {
          "output_type": "stream",
          "name": "stdout",
          "text": [
            "Neural network accuracy on train set: 0.99282\n"
          ]
        }
      ],
      "source": [
        "train_acc_task_2 = get_accuracy(model_task_2, train_data_loader)\n",
        "print(f\"Neural network accuracy on train set: {train_acc_task_2:3.5}\")"
      ]
    },
    {
      "cell_type": "code",
      "execution_count": null,
      "metadata": {
        "colab": {
          "base_uri": "https://localhost:8080/"
        },
        "id": "jLTUq7EZsRWk",
        "outputId": "8bf409bd-8aae-4b05-e949-1a61877edc81"
      },
      "outputs": [
        {
          "output_type": "stream",
          "name": "stdout",
          "text": [
            "Neural network accuracy on test set: 0.9231\n"
          ]
        }
      ],
      "source": [
        "test_acc_task_2 = get_accuracy(model_task_2, test_data_loader)\n",
        "print(f\"Neural network accuracy on test set: {test_acc_task_2:3.5}\")"
      ]
    },
    {
      "cell_type": "markdown",
      "metadata": {
        "id": "Fg8BrpXGsRWk"
      },
      "source": [
        "Проверка, что переобучение присутствует:"
      ]
    },
    {
      "cell_type": "code",
      "execution_count": null,
      "metadata": {
        "id": "NBSSM-q4sRWk"
      },
      "outputs": [],
      "source": [
        "assert train_acc_task_2 >= test_acc_task_2, \"Train accuracy must be higher than task accuracy\"\n",
        "assert train_acc_task_2 >= 0.88, \"Train accuracy must be higher than 0.88\"\n",
        "assert (\n",
        "    train_acc_task_2 - test_acc_task_2 >= 0.04\n",
        "), \"Test accuracy should be at least 0.04 lower that train.\""
      ]
    },
    {
      "cell_type": "markdown",
      "metadata": {
        "id": "nHejUxqssRWk"
      },
      "source": [
        "Обращаем внимане, код ниже предполагает, что ваша модель имеет содержится в переменной `model_task_2`.\n",
        "\n",
        "Также предполагается, что в переменной `submission_dict` уже содержатся результаты задачи №1. Если их там нет, загрузите их из сохраненного файла в переменную перед запуском следующей ячейки."
      ]
    },
    {
      "cell_type": "code",
      "execution_count": null,
      "metadata": {
        "colab": {
          "base_uri": "https://localhost:8080/"
        },
        "id": "cjzY1prgsRWk",
        "outputId": "c20ac14d-a418-4250-c7a9-88b84b6ca8d4"
      },
      "outputs": [
        {
          "output_type": "stream",
          "name": "stdout",
          "text": [
            "File saved to `submission_dict_tasks_1_and_2.json`\n"
          ]
        }
      ],
      "source": [
        "# do not change the code in the block below\n",
        "# __________start of block__________\n",
        "assert os.path.exists(\n",
        "    \"hw_overfitting_data_dict.npy\"\n",
        "), \"Please, download `hw_overfitting_data_dict.npy` and place it in the working directory\"\n",
        "\n",
        "loaded_data_dict = np.load(\"hw_overfitting_data_dict.npy\", allow_pickle=True)\n",
        "\n",
        "submission_dict.update(\n",
        "    {\n",
        "        \"train_predictions_task_2\": get_predictions(\n",
        "            model_task_2, torch.FloatTensor(loaded_data_dict.item()[\"train\"])\n",
        "        ),\n",
        "        \"test_predictions_task_2\": get_predictions(\n",
        "            model_task_2, torch.FloatTensor(loaded_data_dict.item()[\"test\"])\n",
        "        ),\n",
        "        \"model_task_2\": parse_pytorch_model(str(model_task_2)),\n",
        "    }\n",
        ")\n",
        "\n",
        "with open(\"submission_dict_tasks_1_and_2.json\", \"w\") as iofile:\n",
        "    json.dump(submission_dict, iofile)\n",
        "print(\"File saved to `submission_dict_tasks_1_and_2.json`\")\n",
        "# __________end of block__________"
      ]
    },
    {
      "cell_type": "markdown",
      "metadata": {
        "id": "ztuUDCvZsRWl"
      },
      "source": [
        "### Задача №3: Исправление модели (Return)\n",
        "Все так же работаем с [FashionMNIST](https://github.com/zalandoresearch/fashion-mnist). Наконец, ваша задача исправить ~~ошибки прошлого~~ переобучение модели, построенной в задаче 2. Достаточно добиться расхождения между точностью классификации на обучающей и тестовой выборках не превышающего 0.015 (т.е. полутора процентов).\n",
        "\n",
        "Обращаем ваше внимание, архитектура модели в задаче №3 не должна существенно отличаться от задачи №2! Вы можете использовать Batchnorm, Dropout, уменьшить размерность промежуточных представлений, обратиться к аугментации данных, но вы не можете использовать меньшее количество слоёв.\n",
        "\n",
        "__Ваша третья и финальная задача: исправить модель и/или процесс обучения, дабы справиться с переобучением.__\n",
        "\n",
        "Код для обучения модели вы можете переиспользовать. Далее присутствует лишь несколько тестов, которые помогут вам проверить свое решение."
      ]
    },
    {
      "cell_type": "markdown",
      "metadata": {
        "id": "VfFwuaBEsRWl"
      },
      "source": [
        "Обращаем внимание, вам необходимо использовать переменную `model_task_3` для хранение модели во второй задаче.\n",
        "\n",
        "Также код ниже будет обращаться к переменной `layers_task_2`, инициализируйте её, если она не определена."
      ]
    },
    {
      "cell_type": "code",
      "execution_count": null,
      "metadata": {
        "id": "GMDafO24sRWl"
      },
      "outputs": [],
      "source": [
        "# do not change the code in the block below\n",
        "# __________start of block__________\n",
        "assert (\n",
        "    layers_task_2 is not None\n",
        "), \"Initializa layers_task_2 vairable which contains list of layers in task 2 model\"\n",
        "# __________end of block__________"
      ]
    },
    {
      "cell_type": "code",
      "execution_count": null,
      "metadata": {
        "colab": {
          "base_uri": "https://localhost:8080/"
        },
        "id": "TKI5sY4esRWl",
        "outputId": "b95c247d-8742-471f-de28-4f2d10352f95"
      },
      "outputs": [
        {
          "output_type": "execute_result",
          "data": {
            "text/plain": [
              "ResNet_stable(\n",
              "  (initial): Sequential(\n",
              "    (0): Conv2d(1, 64, kernel_size=(3, 3), stride=(1, 1), padding=(1, 1), bias=False)\n",
              "    (1): BatchNorm2d(64, eps=1e-05, momentum=0.1, affine=True, track_running_stats=True)\n",
              "    (2): ReLU(inplace=True)\n",
              "  )\n",
              "  (res_block1): ResidualBlock(\n",
              "    (main_path): Sequential(\n",
              "      (0): Conv2d(64, 64, kernel_size=(3, 3), stride=(1, 1), padding=(1, 1), bias=False)\n",
              "      (1): BatchNorm2d(64, eps=1e-05, momentum=0.1, affine=True, track_running_stats=True)\n",
              "      (2): ReLU(inplace=True)\n",
              "      (3): Conv2d(64, 64, kernel_size=(3, 3), stride=(1, 1), padding=(1, 1), bias=False)\n",
              "      (4): BatchNorm2d(64, eps=1e-05, momentum=0.1, affine=True, track_running_stats=True)\n",
              "    )\n",
              "    (shortcut): Sequential()\n",
              "  )\n",
              "  (res_block2): ResidualBlock(\n",
              "    (main_path): Sequential(\n",
              "      (0): Conv2d(64, 128, kernel_size=(3, 3), stride=(2, 2), padding=(1, 1), bias=False)\n",
              "      (1): BatchNorm2d(128, eps=1e-05, momentum=0.1, affine=True, track_running_stats=True)\n",
              "      (2): ReLU(inplace=True)\n",
              "      (3): Conv2d(128, 128, kernel_size=(3, 3), stride=(1, 1), padding=(1, 1), bias=False)\n",
              "      (4): BatchNorm2d(128, eps=1e-05, momentum=0.1, affine=True, track_running_stats=True)\n",
              "    )\n",
              "    (shortcut): Sequential(\n",
              "      (0): Conv2d(64, 128, kernel_size=(1, 1), stride=(2, 2), bias=False)\n",
              "      (1): BatchNorm2d(128, eps=1e-05, momentum=0.1, affine=True, track_running_stats=True)\n",
              "    )\n",
              "  )\n",
              "  (res_block3): ResidualBlock(\n",
              "    (main_path): Sequential(\n",
              "      (0): Conv2d(128, 256, kernel_size=(3, 3), stride=(2, 2), padding=(1, 1), bias=False)\n",
              "      (1): BatchNorm2d(256, eps=1e-05, momentum=0.1, affine=True, track_running_stats=True)\n",
              "      (2): ReLU(inplace=True)\n",
              "      (3): Conv2d(256, 256, kernel_size=(3, 3), stride=(1, 1), padding=(1, 1), bias=False)\n",
              "      (4): BatchNorm2d(256, eps=1e-05, momentum=0.1, affine=True, track_running_stats=True)\n",
              "    )\n",
              "    (shortcut): Sequential(\n",
              "      (0): Conv2d(128, 256, kernel_size=(1, 1), stride=(2, 2), bias=False)\n",
              "      (1): BatchNorm2d(256, eps=1e-05, momentum=0.1, affine=True, track_running_stats=True)\n",
              "    )\n",
              "  )\n",
              "  (dropout1): Dropout(p=0.2, inplace=False)\n",
              "  (dropout2): Dropout(p=0.3, inplace=False)\n",
              "  (dropout3): Dropout(p=0.4, inplace=False)\n",
              "  (classifier): Sequential(\n",
              "    (0): AdaptiveAvgPool2d(output_size=(1, 1))\n",
              "    (1): Flatten(start_dim=1, end_dim=-1)\n",
              "    (2): Dropout(p=0.5, inplace=False)\n",
              "    (3): Linear(in_features=256, out_features=10, bias=True)\n",
              "  )\n",
              ")"
            ]
          },
          "metadata": {},
          "execution_count": 35
        }
      ],
      "source": [
        "# Improve previous model\n",
        "# add: BatchNorm, Dropout, weight decay\n",
        "\n",
        "class ResidualBlock(nn.Module):\n",
        "    def __init__(self, in_channels, out_channels, stride=1):\n",
        "        super(ResidualBlock, self).__init__()\n",
        "\n",
        "        self.main_path = nn.Sequential(\n",
        "            nn.Conv2d(in_channels, out_channels, kernel_size=3, stride=stride, padding=1, bias=False),\n",
        "            nn.BatchNorm2d(out_channels),\n",
        "            nn.ReLU(inplace=True),\n",
        "            nn.Conv2d(out_channels, out_channels, kernel_size=3, padding=1, bias=False),\n",
        "            nn.BatchNorm2d(out_channels)\n",
        "        )\n",
        "\n",
        "        # skip connection\n",
        "        self.shortcut = nn.Sequential()\n",
        "        if stride != 1 or in_channels != out_channels:\n",
        "            self.shortcut = nn.Sequential(\n",
        "                nn.Conv2d(in_channels, out_channels, kernel_size=1, stride=stride, bias=False),\n",
        "                nn.BatchNorm2d(out_channels)\n",
        "            )\n",
        "\n",
        "    def forward(self, x):\n",
        "        return nn.functional.relu(self.main_path(x) + self.shortcut(x))\n",
        "\n",
        "class ResNet_stable(nn.Module):\n",
        "    def __init__(self):\n",
        "        super(ResNet_stable, self).__init__()\n",
        "\n",
        "        self.initial = nn.Sequential(\n",
        "            nn.Conv2d(1, 64, kernel_size=3, stride=1, padding=1, bias=False),\n",
        "            nn.BatchNorm2d(64),\n",
        "            nn.ReLU(inplace=True)\n",
        "        )\n",
        "\n",
        "        # Res-blocks\n",
        "        self.res_block1 = ResidualBlock(64, 64)\n",
        "        self.res_block2 = ResidualBlock(64, 128, stride=2)\n",
        "        self.res_block3 = ResidualBlock(128, 256, stride=2)\n",
        "\n",
        "        # Dropout layers\n",
        "        self.dropout1 = nn.Dropout(0.2)\n",
        "        self.dropout2 = nn.Dropout(0.3)\n",
        "        self.dropout3 = nn.Dropout(0.4)\n",
        "\n",
        "        # classifier\n",
        "        self.classifier = nn.Sequential(\n",
        "            nn.AdaptiveAvgPool2d(output_size=(1, 1)),\n",
        "            nn.Flatten(),\n",
        "            nn.Dropout(0.5),\n",
        "            nn.Linear(256, 10)\n",
        "        )\n",
        "\n",
        "    def forward(self, x):\n",
        "        x = self.initial(x)\n",
        "        x = self.res_block1(x)\n",
        "        x = self.dropout1(x)\n",
        "        x = self.res_block2(x)\n",
        "        x = self.dropout2(x)\n",
        "        x = self.res_block3(x)\n",
        "        x = self.dropout3(x)\n",
        "        x = self.classifier(x)\n",
        "        return x\n",
        "\n",
        "model_task_3 = ResNet_stable()\n",
        "model_task_3.to(device)"
      ]
    },
    {
      "cell_type": "code",
      "execution_count": null,
      "metadata": {
        "colab": {
          "base_uri": "https://localhost:8080/"
        },
        "id": "02oRDj6SsRWl",
        "outputId": "177bcd06-4984-4117-d8b9-5358edca1cfd"
      },
      "outputs": [
        {
          "output_type": "stream",
          "name": "stdout",
          "text": [
            "Epoch: 1/15, Batch: 100, Loss: 1.3291\n",
            "Epoch: 1/15, Batch: 200, Loss: 0.9149\n",
            "Epoch: 1/15, Batch: 300, Loss: 0.8282\n",
            "Epoch: 1/15, Batch: 400, Loss: 0.7242\n",
            "Epoch: 1/15, Batch: 500, Loss: 0.6604\n",
            "Epoch: 1/15, Batch: 600, Loss: 0.6365\n",
            "Epoch: 1/15, Batch: 700, Loss: 0.6091\n",
            "Epoch: 1/15, Batch: 800, Loss: 0.6385\n",
            "Epoch: 1/15, Batch: 900, Loss: 0.6074\n",
            "Epoch: 1/15, Batch: 1000, Loss: 0.5924\n",
            "Epoch: 1/15, Batch: 1100, Loss: 0.5801\n",
            "Epoch: 1/15, Batch: 1200, Loss: 0.5525\n",
            "Epoch: 1/15, Batch: 1300, Loss: 0.5174\n",
            "Epoch: 1/15, Batch: 1400, Loss: 0.5475\n",
            "Epoch: 1/15, Batch: 1500, Loss: 0.4954\n",
            "Epoch: 1/15, Batch: 1600, Loss: 0.5336\n",
            "Epoch: 1/15, Batch: 1700, Loss: 0.5199\n",
            "Epoch: 1/15, Batch: 1800, Loss: 0.5022\n",
            "Epoch 1/15:\n",
            "  Train Accuracy: 0.8230\n",
            "  Test Accuracy: 0.8168\n",
            "  Gap: 0.0062\n",
            "New best model saved with test accuracy: 0.8168\n",
            "Epoch: 2/15, Batch: 100, Loss: 0.4881\n",
            "Epoch: 2/15, Batch: 200, Loss: 0.4751\n",
            "Epoch: 2/15, Batch: 300, Loss: 0.4766\n",
            "Epoch: 2/15, Batch: 400, Loss: 0.4567\n",
            "Epoch: 2/15, Batch: 500, Loss: 0.4691\n",
            "Epoch: 2/15, Batch: 600, Loss: 0.4842\n",
            "Epoch: 2/15, Batch: 700, Loss: 0.4888\n",
            "Epoch: 2/15, Batch: 800, Loss: 0.4719\n",
            "Epoch: 2/15, Batch: 900, Loss: 0.4568\n",
            "Epoch: 2/15, Batch: 1000, Loss: 0.4478\n",
            "Epoch: 2/15, Batch: 1100, Loss: 0.4260\n",
            "Epoch: 2/15, Batch: 1200, Loss: 0.4465\n",
            "Epoch: 2/15, Batch: 1300, Loss: 0.4312\n",
            "Epoch: 2/15, Batch: 1400, Loss: 0.4579\n",
            "Epoch: 2/15, Batch: 1500, Loss: 0.4297\n",
            "Epoch: 2/15, Batch: 1600, Loss: 0.4404\n",
            "Epoch: 2/15, Batch: 1700, Loss: 0.4274\n",
            "Epoch: 2/15, Batch: 1800, Loss: 0.4316\n",
            "Epoch 2/15:\n",
            "  Train Accuracy: 0.8335\n",
            "  Test Accuracy: 0.8258\n",
            "  Gap: 0.0077\n",
            "New best model saved with test accuracy: 0.8258\n",
            "Epoch: 3/15, Batch: 100, Loss: 0.4431\n",
            "Epoch: 3/15, Batch: 200, Loss: 0.4452\n",
            "Epoch: 3/15, Batch: 300, Loss: 0.3908\n",
            "Epoch: 3/15, Batch: 400, Loss: 0.4156\n",
            "Epoch: 3/15, Batch: 500, Loss: 0.3841\n",
            "Epoch: 3/15, Batch: 600, Loss: 0.3928\n",
            "Epoch: 3/15, Batch: 700, Loss: 0.4042\n",
            "Epoch: 3/15, Batch: 800, Loss: 0.4140\n",
            "Epoch: 3/15, Batch: 900, Loss: 0.4135\n",
            "Epoch: 3/15, Batch: 1000, Loss: 0.3951\n",
            "Epoch: 3/15, Batch: 1100, Loss: 0.3832\n",
            "Epoch: 3/15, Batch: 1200, Loss: 0.4213\n",
            "Epoch: 3/15, Batch: 1300, Loss: 0.3756\n",
            "Epoch: 3/15, Batch: 1400, Loss: 0.4059\n",
            "Epoch: 3/15, Batch: 1500, Loss: 0.3818\n",
            "Epoch: 3/15, Batch: 1600, Loss: 0.4115\n",
            "Epoch: 3/15, Batch: 1700, Loss: 0.3781\n",
            "Epoch: 3/15, Batch: 1800, Loss: 0.3959\n",
            "Epoch 3/15:\n",
            "  Train Accuracy: 0.8942\n",
            "  Test Accuracy: 0.8873\n",
            "  Gap: 0.0069\n",
            "New best model saved with test accuracy: 0.8873\n",
            "Epoch: 4/15, Batch: 100, Loss: 0.3534\n",
            "Epoch: 4/15, Batch: 200, Loss: 0.3624\n",
            "Epoch: 4/15, Batch: 300, Loss: 0.3826\n",
            "Epoch: 4/15, Batch: 400, Loss: 0.3857\n",
            "Epoch: 4/15, Batch: 500, Loss: 0.3637\n",
            "Epoch: 4/15, Batch: 600, Loss: 0.3685\n",
            "Epoch: 4/15, Batch: 700, Loss: 0.3573\n",
            "Epoch: 4/15, Batch: 800, Loss: 0.3517\n",
            "Epoch: 4/15, Batch: 900, Loss: 0.3708\n",
            "Epoch: 4/15, Batch: 1000, Loss: 0.3927\n",
            "Epoch: 4/15, Batch: 1100, Loss: 0.3776\n",
            "Epoch: 4/15, Batch: 1200, Loss: 0.3472\n",
            "Epoch: 4/15, Batch: 1300, Loss: 0.3833\n",
            "Epoch: 4/15, Batch: 1400, Loss: 0.3606\n",
            "Epoch: 4/15, Batch: 1500, Loss: 0.3576\n",
            "Epoch: 4/15, Batch: 1600, Loss: 0.3558\n",
            "Epoch: 4/15, Batch: 1700, Loss: 0.3768\n",
            "Epoch: 4/15, Batch: 1800, Loss: 0.3541\n",
            "Epoch 4/15:\n",
            "  Train Accuracy: 0.9022\n",
            "  Test Accuracy: 0.8942\n",
            "  Gap: 0.0080\n",
            "New best model saved with test accuracy: 0.8942\n",
            "Epoch: 5/15, Batch: 100, Loss: 0.3736\n",
            "Epoch: 5/15, Batch: 200, Loss: 0.3653\n",
            "Epoch: 5/15, Batch: 300, Loss: 0.3629\n",
            "Epoch: 5/15, Batch: 400, Loss: 0.3693\n",
            "Epoch: 5/15, Batch: 500, Loss: 0.3391\n",
            "Epoch: 5/15, Batch: 600, Loss: 0.3459\n",
            "Epoch: 5/15, Batch: 700, Loss: 0.3647\n",
            "Epoch: 5/15, Batch: 800, Loss: 0.3357\n",
            "Epoch: 5/15, Batch: 900, Loss: 0.3419\n",
            "Epoch: 5/15, Batch: 1000, Loss: 0.3429\n",
            "Epoch: 5/15, Batch: 1100, Loss: 0.3343\n",
            "Epoch: 5/15, Batch: 1200, Loss: 0.3481\n",
            "Epoch: 5/15, Batch: 1300, Loss: 0.3618\n",
            "Epoch: 5/15, Batch: 1400, Loss: 0.3212\n",
            "Epoch: 5/15, Batch: 1500, Loss: 0.3291\n",
            "Epoch: 5/15, Batch: 1600, Loss: 0.3544\n",
            "Epoch: 5/15, Batch: 1700, Loss: 0.3305\n",
            "Epoch: 5/15, Batch: 1800, Loss: 0.3497\n",
            "Epoch 5/15:\n",
            "  Train Accuracy: 0.9055\n",
            "  Test Accuracy: 0.8954\n",
            "  Gap: 0.0101\n",
            "New best model saved with test accuracy: 0.8954\n",
            "Epoch: 6/15, Batch: 100, Loss: 0.3338\n",
            "Epoch: 6/15, Batch: 200, Loss: 0.3206\n",
            "Epoch: 6/15, Batch: 300, Loss: 0.3390\n",
            "Epoch: 6/15, Batch: 400, Loss: 0.3467\n",
            "Epoch: 6/15, Batch: 500, Loss: 0.3371\n",
            "Epoch: 6/15, Batch: 600, Loss: 0.3424\n",
            "Epoch: 6/15, Batch: 700, Loss: 0.3359\n",
            "Epoch: 6/15, Batch: 800, Loss: 0.3260\n",
            "Epoch: 6/15, Batch: 900, Loss: 0.3335\n",
            "Epoch: 6/15, Batch: 1000, Loss: 0.3300\n",
            "Epoch: 6/15, Batch: 1100, Loss: 0.3317\n",
            "Epoch: 6/15, Batch: 1200, Loss: 0.3116\n",
            "Epoch: 6/15, Batch: 1300, Loss: 0.3319\n",
            "Epoch: 6/15, Batch: 1400, Loss: 0.3522\n",
            "Epoch: 6/15, Batch: 1500, Loss: 0.3649\n",
            "Epoch: 6/15, Batch: 1600, Loss: 0.3402\n",
            "Epoch: 6/15, Batch: 1700, Loss: 0.3341\n",
            "Epoch: 6/15, Batch: 1800, Loss: 0.3439\n",
            "Epoch 6/15:\n",
            "  Train Accuracy: 0.9011\n",
            "  Test Accuracy: 0.8902\n",
            "  Gap: 0.0109\n",
            "Epoch: 7/15, Batch: 100, Loss: 0.3143\n",
            "Epoch: 7/15, Batch: 200, Loss: 0.3155\n",
            "Epoch: 7/15, Batch: 300, Loss: 0.3340\n",
            "Epoch: 7/15, Batch: 400, Loss: 0.3280\n",
            "Epoch: 7/15, Batch: 500, Loss: 0.3313\n",
            "Epoch: 7/15, Batch: 600, Loss: 0.3205\n",
            "Epoch: 7/15, Batch: 700, Loss: 0.3440\n",
            "Epoch: 7/15, Batch: 800, Loss: 0.3336\n",
            "Epoch: 7/15, Batch: 900, Loss: 0.3087\n",
            "Epoch: 7/15, Batch: 1000, Loss: 0.3211\n",
            "Epoch: 7/15, Batch: 1100, Loss: 0.3202\n",
            "Epoch: 7/15, Batch: 1200, Loss: 0.3189\n",
            "Epoch: 7/15, Batch: 1300, Loss: 0.3106\n",
            "Epoch: 7/15, Batch: 1400, Loss: 0.3292\n",
            "Epoch: 7/15, Batch: 1500, Loss: 0.2975\n",
            "Epoch: 7/15, Batch: 1600, Loss: 0.3351\n",
            "Epoch: 7/15, Batch: 1700, Loss: 0.3232\n",
            "Epoch: 7/15, Batch: 1800, Loss: 0.3268\n",
            "Epoch 7/15:\n",
            "  Train Accuracy: 0.9134\n",
            "  Test Accuracy: 0.9005\n",
            "  Gap: 0.0129\n",
            "New best model saved with test accuracy: 0.9005\n",
            "Epoch: 8/15, Batch: 100, Loss: 0.2881\n",
            "Epoch: 8/15, Batch: 200, Loss: 0.3002\n",
            "Epoch: 8/15, Batch: 300, Loss: 0.3042\n",
            "Epoch: 8/15, Batch: 400, Loss: 0.3102\n",
            "Epoch: 8/15, Batch: 500, Loss: 0.3074\n",
            "Epoch: 8/15, Batch: 600, Loss: 0.3330\n",
            "Epoch: 8/15, Batch: 700, Loss: 0.3196\n",
            "Epoch: 8/15, Batch: 800, Loss: 0.3169\n",
            "Epoch: 8/15, Batch: 900, Loss: 0.3052\n",
            "Epoch: 8/15, Batch: 1000, Loss: 0.3462\n",
            "Epoch: 8/15, Batch: 1100, Loss: 0.3106\n",
            "Epoch: 8/15, Batch: 1200, Loss: 0.3171\n",
            "Epoch: 8/15, Batch: 1300, Loss: 0.2960\n",
            "Epoch: 8/15, Batch: 1400, Loss: 0.2967\n",
            "Epoch: 8/15, Batch: 1500, Loss: 0.3096\n",
            "Epoch: 8/15, Batch: 1600, Loss: 0.3244\n",
            "Epoch: 8/15, Batch: 1700, Loss: 0.3177\n",
            "Epoch: 8/15, Batch: 1800, Loss: 0.3011\n"
          ]
        },
        {
          "output_type": "stream",
          "name": "stderr",
          "text": [
            "Exception ignored in: <function _MultiProcessingDataLoaderIter.__del__ at 0x792aa017ede0>\n",
            "Traceback (most recent call last):\n",
            "  File \"/usr/local/lib/python3.11/dist-packages/torch/utils/data/dataloader.py\", line 1618, in __del__\n",
            "    self._shutdown_workers()\n",
            "  File \"/usr/local/lib/python3.11/dist-packages/torch/utils/data/dataloader.py\", line 1601, in _shutdown_workers\n",
            "    if w.is_alive():\n",
            "       Exception ignored in: \n",
            "<function _MultiProcessingDataLoaderIter.__del__ at 0x792aa017ede0>Traceback (most recent call last):\n",
            "  File \"/usr/local/lib/python3.11/dist-packages/torch/utils/data/dataloader.py\", line 1618, in __del__\n",
            "    self._shutdown_workers()\n",
            "  File \"/usr/local/lib/python3.11/dist-packages/torch/utils/data/dataloader.py\", line 1601, in _shutdown_workers\n",
            "    ^if w.is_alive():^^\n",
            " ^ ^ ^  ^ ^ ^^^^^^^^\n",
            "^  File \"/usr/lib/python3.11/multiprocessing/process.py\", line 160, in is_alive\n",
            "    ^^assert self._parent_pid == os.getpid(), 'can only test a child process'^\n",
            "^^^ ^ \n",
            "  File \"/usr/lib/python3.11/multiprocessing/process.py\", line 160, in is_alive\n",
            "    assert self._parent_pid == os.getpid(), 'can only test a child process'\n",
            "               ^^ ^    ^^^^^^^^^^^^^^^^^^^^^^^^^^^^^^^^^^^^^^^^^^^^^^^^^^\n",
            "AssertionError^^: can only test a child process^^\n",
            "^^^^^\n",
            "AssertionError: can only test a child process\n"
          ]
        },
        {
          "output_type": "stream",
          "name": "stdout",
          "text": [
            "Epoch 8/15:\n",
            "  Train Accuracy: 0.9149\n",
            "  Test Accuracy: 0.9050\n",
            "  Gap: 0.0099\n",
            "New best model saved with test accuracy: 0.9050\n",
            "Epoch: 9/15, Batch: 100, Loss: 0.3107\n",
            "Epoch: 9/15, Batch: 200, Loss: 0.3250\n",
            "Epoch: 9/15, Batch: 300, Loss: 0.3159\n",
            "Epoch: 9/15, Batch: 400, Loss: 0.3109\n",
            "Epoch: 9/15, Batch: 500, Loss: 0.3054\n",
            "Epoch: 9/15, Batch: 600, Loss: 0.3193\n",
            "Epoch: 9/15, Batch: 700, Loss: 0.3028\n",
            "Epoch: 9/15, Batch: 800, Loss: 0.2912\n",
            "Epoch: 9/15, Batch: 900, Loss: 0.3055\n",
            "Epoch: 9/15, Batch: 1000, Loss: 0.3220\n",
            "Epoch: 9/15, Batch: 1100, Loss: 0.3096\n",
            "Epoch: 9/15, Batch: 1200, Loss: 0.3081\n",
            "Epoch: 9/15, Batch: 1300, Loss: 0.2927\n",
            "Epoch: 9/15, Batch: 1400, Loss: 0.3005\n",
            "Epoch: 9/15, Batch: 1500, Loss: 0.3229\n",
            "Epoch: 9/15, Batch: 1600, Loss: 0.2973\n",
            "Epoch: 9/15, Batch: 1700, Loss: 0.2906\n",
            "Epoch: 9/15, Batch: 1800, Loss: 0.3179\n",
            "Epoch 9/15:\n",
            "  Train Accuracy: 0.9165\n",
            "  Test Accuracy: 0.9050\n",
            "  Gap: 0.0115\n",
            "Epoch: 10/15, Batch: 100, Loss: 0.2889\n",
            "Epoch: 10/15, Batch: 200, Loss: 0.2984\n",
            "Epoch: 10/15, Batch: 300, Loss: 0.2865\n",
            "Epoch: 10/15, Batch: 400, Loss: 0.2936\n",
            "Epoch: 10/15, Batch: 500, Loss: 0.3005\n",
            "Epoch: 10/15, Batch: 600, Loss: 0.3218\n",
            "Epoch: 10/15, Batch: 700, Loss: 0.3161\n",
            "Epoch: 10/15, Batch: 800, Loss: 0.3070\n",
            "Epoch: 10/15, Batch: 900, Loss: 0.3030\n",
            "Epoch: 10/15, Batch: 1000, Loss: 0.2910\n",
            "Epoch: 10/15, Batch: 1100, Loss: 0.3057\n",
            "Epoch: 10/15, Batch: 1200, Loss: 0.2848\n",
            "Epoch: 10/15, Batch: 1300, Loss: 0.2980\n",
            "Epoch: 10/15, Batch: 1400, Loss: 0.3130\n",
            "Epoch: 10/15, Batch: 1500, Loss: 0.3037\n",
            "Epoch: 10/15, Batch: 1600, Loss: 0.2875\n",
            "Epoch: 10/15, Batch: 1700, Loss: 0.2897\n",
            "Epoch: 10/15, Batch: 1800, Loss: 0.2958\n",
            "Epoch 10/15:\n",
            "  Train Accuracy: 0.9183\n",
            "  Test Accuracy: 0.9090\n",
            "  Gap: 0.0093\n",
            "New best model saved with test accuracy: 0.9090\n",
            "Epoch: 11/15, Batch: 100, Loss: 0.2807\n",
            "Epoch: 11/15, Batch: 200, Loss: 0.2921\n",
            "Epoch: 11/15, Batch: 300, Loss: 0.3088\n",
            "Epoch: 11/15, Batch: 400, Loss: 0.3035\n",
            "Epoch: 11/15, Batch: 500, Loss: 0.3086\n",
            "Epoch: 11/15, Batch: 600, Loss: 0.2800\n",
            "Epoch: 11/15, Batch: 700, Loss: 0.2743\n",
            "Epoch: 11/15, Batch: 800, Loss: 0.3021\n",
            "Epoch: 11/15, Batch: 900, Loss: 0.2849\n",
            "Epoch: 11/15, Batch: 1000, Loss: 0.2947\n",
            "Epoch: 11/15, Batch: 1100, Loss: 0.2949\n",
            "Epoch: 11/15, Batch: 1200, Loss: 0.2865\n",
            "Epoch: 11/15, Batch: 1300, Loss: 0.3104\n",
            "Epoch: 11/15, Batch: 1400, Loss: 0.3101\n",
            "Epoch: 11/15, Batch: 1500, Loss: 0.2919\n",
            "Epoch: 11/15, Batch: 1600, Loss: 0.2878\n",
            "Epoch: 11/15, Batch: 1700, Loss: 0.3078\n",
            "Epoch: 11/15, Batch: 1800, Loss: 0.3028\n",
            "Epoch 11/15:\n",
            "  Train Accuracy: 0.9265\n",
            "  Test Accuracy: 0.9176\n",
            "  Gap: 0.0089\n",
            "New best model saved with test accuracy: 0.9176\n",
            "Epoch: 12/15, Batch: 100, Loss: 0.2974\n",
            "Epoch: 12/15, Batch: 200, Loss: 0.2741\n",
            "Epoch: 12/15, Batch: 300, Loss: 0.2890\n",
            "Epoch: 12/15, Batch: 400, Loss: 0.3085\n",
            "Epoch: 12/15, Batch: 500, Loss: 0.2693\n",
            "Epoch: 12/15, Batch: 600, Loss: 0.2698\n",
            "Epoch: 12/15, Batch: 700, Loss: 0.2863\n",
            "Epoch: 12/15, Batch: 800, Loss: 0.2878\n",
            "Epoch: 12/15, Batch: 900, Loss: 0.2903\n",
            "Epoch: 12/15, Batch: 1000, Loss: 0.2879\n",
            "Epoch: 12/15, Batch: 1100, Loss: 0.3324\n",
            "Epoch: 12/15, Batch: 1200, Loss: 0.2845\n",
            "Epoch: 12/15, Batch: 1300, Loss: 0.2736\n",
            "Epoch: 12/15, Batch: 1400, Loss: 0.2674\n",
            "Epoch: 12/15, Batch: 1500, Loss: 0.3042\n",
            "Epoch: 12/15, Batch: 1600, Loss: 0.2844\n",
            "Epoch: 12/15, Batch: 1700, Loss: 0.2827\n",
            "Epoch: 12/15, Batch: 1800, Loss: 0.2947\n",
            "Epoch 12/15:\n",
            "  Train Accuracy: 0.9179\n",
            "  Test Accuracy: 0.9070\n",
            "  Gap: 0.0109\n",
            "Epoch: 13/15, Batch: 100, Loss: 0.2645\n",
            "Epoch: 13/15, Batch: 200, Loss: 0.2756\n",
            "Epoch: 13/15, Batch: 300, Loss: 0.2843\n",
            "Epoch: 13/15, Batch: 400, Loss: 0.2955\n",
            "Epoch: 13/15, Batch: 500, Loss: 0.3031\n",
            "Epoch: 13/15, Batch: 600, Loss: 0.2937\n",
            "Epoch: 13/15, Batch: 700, Loss: 0.2988\n",
            "Epoch: 13/15, Batch: 800, Loss: 0.2947\n",
            "Epoch: 13/15, Batch: 900, Loss: 0.2875\n",
            "Epoch: 13/15, Batch: 1000, Loss: 0.2682\n",
            "Epoch: 13/15, Batch: 1100, Loss: 0.2899\n",
            "Epoch: 13/15, Batch: 1200, Loss: 0.2864\n",
            "Epoch: 13/15, Batch: 1300, Loss: 0.2896\n",
            "Epoch: 13/15, Batch: 1400, Loss: 0.2896\n",
            "Epoch: 13/15, Batch: 1500, Loss: 0.2645\n",
            "Epoch: 13/15, Batch: 1600, Loss: 0.2866\n",
            "Epoch: 13/15, Batch: 1700, Loss: 0.2889\n",
            "Epoch: 13/15, Batch: 1800, Loss: 0.2760\n",
            "Epoch 13/15:\n",
            "  Train Accuracy: 0.9260\n",
            "  Test Accuracy: 0.9172\n",
            "  Gap: 0.0088\n",
            "Epoch: 14/15, Batch: 100, Loss: 0.2550\n",
            "Epoch: 14/15, Batch: 200, Loss: 0.2800\n",
            "Epoch: 14/15, Batch: 300, Loss: 0.2884\n",
            "Epoch: 14/15, Batch: 400, Loss: 0.2699\n",
            "Epoch: 14/15, Batch: 500, Loss: 0.2834\n",
            "Epoch: 14/15, Batch: 600, Loss: 0.2768\n",
            "Epoch: 14/15, Batch: 700, Loss: 0.2776\n",
            "Epoch: 14/15, Batch: 800, Loss: 0.2817\n",
            "Epoch: 14/15, Batch: 900, Loss: 0.2791\n",
            "Epoch: 14/15, Batch: 1000, Loss: 0.3025\n",
            "Epoch: 14/15, Batch: 1100, Loss: 0.2862\n",
            "Epoch: 14/15, Batch: 1200, Loss: 0.3094\n",
            "Epoch: 14/15, Batch: 1300, Loss: 0.2794\n",
            "Epoch: 14/15, Batch: 1400, Loss: 0.3000\n",
            "Epoch: 14/15, Batch: 1500, Loss: 0.2878\n",
            "Epoch: 14/15, Batch: 1600, Loss: 0.2835\n",
            "Epoch: 14/15, Batch: 1700, Loss: 0.2688\n",
            "Epoch: 14/15, Batch: 1800, Loss: 0.2890\n",
            "Epoch 14/15:\n",
            "  Train Accuracy: 0.9239\n",
            "  Test Accuracy: 0.9109\n",
            "  Gap: 0.0130\n",
            "Early stopping triggered after 14 epochs\n",
            "Loaded the best model\n",
            "\n",
            "Final Results:\n",
            "Neural network accuracy on train set: 0.9265\n",
            "Neural network accuracy on test set: 0.9176\n",
            "Accuracy gap: 0.0089\n"
          ]
        }
      ],
      "source": [
        "learning_rate = 0.001\n",
        "optimizer = torch.optim.Adam(model_task_3.parameters(), lr=learning_rate, weight_decay=1e-4)\n",
        "loss_function = torch.nn.CrossEntropyLoss()\n",
        "\n",
        "transform_train = torchvision.transforms.Compose([\n",
        "    torchvision.transforms.RandomAffine(degrees=5, translate=(0.1, 0.1), scale=(0.9, 1.1)),\n",
        "    torchvision.transforms.ToTensor()\n",
        "])\n",
        "\n",
        "train_fmnist_data_aug = FashionMNIST(\n",
        "    \".\", train=True, transform=transform_train, download=False\n",
        ")\n",
        "\n",
        "train_data_loader_aug = torch.utils.data.DataLoader(\n",
        "    train_fmnist_data_aug, batch_size=32, shuffle=True, num_workers=2\n",
        ")\n",
        "\n",
        "num_epochs = 15\n",
        "best_test_acc = 0\n",
        "patience = 3\n",
        "patience_counter = 0\n",
        "\n",
        "for epoch in range(num_epochs):\n",
        "    model_task_3.train()\n",
        "    running_loss = 0.0\n",
        "\n",
        "    for batch_idx, (x, y) in enumerate(train_data_loader_aug):\n",
        "        x, y = x.to(device), y.to(device)\n",
        "\n",
        "        # Forward pass\n",
        "        optimizer.zero_grad()\n",
        "        y_predicted = model_task_3(x)\n",
        "        loss = loss_function(y_predicted, y)\n",
        "\n",
        "        # Backward pass and optimize\n",
        "        loss.backward()\n",
        "        optimizer.step()\n",
        "\n",
        "        running_loss += loss.item()\n",
        "\n",
        "        # Print statistics\n",
        "        if batch_idx % 100 == 99:\n",
        "            print(f'Epoch: {epoch+1}/{num_epochs}, Batch: {batch_idx+1}, Loss: {running_loss/100:.4f}')\n",
        "            running_loss = 0.0\n",
        "\n",
        "    # Check training and test accuracy after each epoch\n",
        "    train_acc = get_accuracy(model_task_3, train_data_loader)  # Evaluate on non-augmented data\n",
        "    test_acc = get_accuracy(model_task_3, test_data_loader)\n",
        "    print(f'Epoch {epoch+1}/{num_epochs}:')\n",
        "    print(f'  Train Accuracy: {train_acc:.4f}')\n",
        "    print(f'  Test Accuracy: {test_acc:.4f}')\n",
        "    print(f'  Gap: {train_acc - test_acc:.4f}')\n",
        "\n",
        "    # Early stopping based on test accuracy and gap\n",
        "    if test_acc > best_test_acc and (train_acc - test_acc) <= 0.015:\n",
        "        best_test_acc = test_acc\n",
        "        patience_counter = 0\n",
        "        torch.save(model_task_3.state_dict(), 'best_model_task_3.pth')\n",
        "        print(f\"New best model saved with test accuracy: {test_acc:.4f}\")\n",
        "    else:\n",
        "        patience_counter += 1\n",
        "        if patience_counter >= patience:\n",
        "            print(f\"Early stopping triggered after {epoch+1} epochs\")\n",
        "            break\n",
        "\n",
        "# Load the best model\n",
        "if os.path.exists('best_model_task_3.pth'):\n",
        "    model_task_3.load_state_dict(torch.load('best_model_task_3.pth'))\n",
        "    print(\"Loaded the best model\")\n",
        "\n",
        "train_acc_task_3 = get_accuracy(model_task_3, train_data_loader)\n",
        "test_acc_task_3 = get_accuracy(model_task_3, test_data_loader)\n",
        "print(f\"\\nFinal Results:\")\n",
        "print(f\"Neural network accuracy on train set: {train_acc_task_3:.4f}\")\n",
        "print(f\"Neural network accuracy on test set: {test_acc_task_3:.4f}\")\n",
        "print(f\"Accuracy gap: {train_acc_task_3 - test_acc_task_3:.4f}\")"
      ]
    },
    {
      "cell_type": "markdown",
      "metadata": {
        "id": "oEiWeBTysRWl"
      },
      "source": [
        "Проверка архитектуры:"
      ]
    },
    {
      "cell_type": "code",
      "execution_count": null,
      "metadata": {
        "id": "7QDUCMeZsRWl"
      },
      "outputs": [],
      "source": [
        "# do not change the code in the block below\n",
        "# __________start of block__________\n",
        "layers_task_3 = []\n",
        "for element in parse_pytorch_model(str(model_task_3)).get(\"layers\", []):\n",
        "    layer_name = element[\"layer\"][\"type\"]\n",
        "    layers_task_3.append(layer_name)\n",
        "\n",
        "\n",
        "idx = 0\n",
        "for model_3_layer in layers_task_3:\n",
        "    model_2_layer = layers_task_2[idx]\n",
        "    if \"dropout\" not in model_3_layer.lower() and \"batchnorm\" not in model_3_layer.lower():\n",
        "        assert (\n",
        "            model_3_layer == model_2_layer\n",
        "        ), \"Models in tasks 2 and 3 must share the architecture except for Dropout and BatchNorm!\"\n",
        "        idx += 1\n",
        "# __________end of block__________"
      ]
    },
    {
      "cell_type": "markdown",
      "metadata": {
        "id": "UpC52ihhsRWl"
      },
      "source": [
        "Оценим качество классификации:"
      ]
    },
    {
      "cell_type": "code",
      "execution_count": null,
      "metadata": {
        "colab": {
          "base_uri": "https://localhost:8080/"
        },
        "id": "EJNqi1resRWl",
        "outputId": "5f0d42f5-427d-4cfc-de45-bbe9796af6b3"
      },
      "outputs": [
        {
          "output_type": "stream",
          "name": "stdout",
          "text": [
            "Neural network accuracy on train set: 0.92653\n"
          ]
        }
      ],
      "source": [
        "train_acc_task_3 = get_accuracy(model_task_3, train_data_loader)\n",
        "print(f\"Neural network accuracy on train set: {train_acc_task_3:3.5}\")"
      ]
    },
    {
      "cell_type": "code",
      "execution_count": null,
      "metadata": {
        "colab": {
          "base_uri": "https://localhost:8080/"
        },
        "id": "S0phlIxhsRWl",
        "outputId": "7607888c-c226-4a1b-f114-6dad4b8867c1"
      },
      "outputs": [
        {
          "output_type": "stream",
          "name": "stdout",
          "text": [
            "Neural network accuracy on test set: 0.9176\n"
          ]
        }
      ],
      "source": [
        "test_acc_task_3 = get_accuracy(model_task_3, test_data_loader)\n",
        "print(f\"Neural network accuracy on test set: {test_acc_task_3:3.5}\")"
      ]
    },
    {
      "cell_type": "markdown",
      "metadata": {
        "id": "FhJWH81FsRWl"
      },
      "source": [
        "Проверка, что переобучение присутствует:"
      ]
    },
    {
      "cell_type": "code",
      "execution_count": null,
      "metadata": {
        "id": "m_qWBKl6sRWl"
      },
      "outputs": [],
      "source": [
        "assert train_acc_task_3 >= 0.88, \"Train accuracy must be higher than 0.88\"\n",
        "assert train_acc_task_3 >= 0.865, \"Test accuracy must be higher than 0.865\"\n",
        "assert (\n",
        "    train_acc_task_3 - test_acc_task_3 <= 0.015\n",
        "), \"Test accuracy should not be lower that train more than by 0.015\""
      ]
    },
    {
      "cell_type": "markdown",
      "metadata": {
        "id": "xRV6QqOwsRWl"
      },
      "source": [
        "Обращаем внимане, код ниже предполагает, что ваша модель имеет содержится в переменной `model_task_3`.\n",
        "\n",
        "Также предполагается, что в переменной `submission_dict` уже содержатся результаты задач №1 и №2. Если их там нет, загрузите их из сохраненных файлов перед запуском следующей ячейки."
      ]
    },
    {
      "cell_type": "code",
      "execution_count": null,
      "metadata": {
        "colab": {
          "base_uri": "https://localhost:8080/"
        },
        "id": "6pdLAChysRWl",
        "outputId": "a886e5c8-2411-4614-f65e-84ebde9ec2e9"
      },
      "outputs": [
        {
          "output_type": "stream",
          "name": "stdout",
          "text": [
            "File saved to `submission_dict_final.json`\n"
          ]
        }
      ],
      "source": [
        "# do not change the code in the block below\n",
        "# __________start of block__________\n",
        "assert os.path.exists(\n",
        "    \"hw_overfitting_data_dict.npy\"\n",
        "), \"Please, download `hw_overfitting_data_dict.npy` and place it in the working directory\"\n",
        "\n",
        "loaded_data_dict = np.load(\"hw_overfitting_data_dict.npy\", allow_pickle=True)\n",
        "\n",
        "submission_dict.update(\n",
        "    {\n",
        "        \"train_predictions_task_3\": get_predictions(\n",
        "            model_task_3, torch.FloatTensor(loaded_data_dict.item()[\"train\"])\n",
        "        ),\n",
        "        \"test_predictions_task_3\": get_predictions(\n",
        "            model_task_3, torch.FloatTensor(loaded_data_dict.item()[\"test\"])\n",
        "        ),\n",
        "        \"model_task_3\": parse_pytorch_model(str(model_task_3)),\n",
        "    }\n",
        ")\n",
        "\n",
        "with open(\"submission_dict_final.json\", \"w\") as iofile:\n",
        "    json.dump(submission_dict, iofile)\n",
        "print(\"File saved to `submission_dict_final.json`\")\n",
        "# __________end of block__________"
      ]
    },
    {
      "cell_type": "markdown",
      "metadata": {
        "id": "Xai8JL3tgSq_"
      },
      "source": [
        "### Сдача задания\n",
        "Сдайте сгенерированные файлы в соответствующие задачи в соревновании, а именно:\n",
        "* `submission_dict_tasks_1_and_2.json` в задачу Initiation\n",
        "* `submission_dict_final.json` в задачу Return.\n",
        "\n",
        "\n",
        "`submission_dict_task_1.json` сдавать не нужно, он уже был сдан ранее."
      ]
    },
    {
      "cell_type": "markdown",
      "metadata": {
        "id": "OtWnYAN_gSrA"
      },
      "source": [
        "На этом задание завершено. Поздравляем!"
      ]
    }
  ],
  "metadata": {
    "accelerator": "GPU",
    "colab": {
      "gpuType": "T4",
      "provenance": []
    },
    "kernelspec": {
      "display_name": "base",
      "language": "python",
      "name": "python3"
    },
    "language_info": {
      "codemirror_mode": {
        "name": "ipython",
        "version": 3
      },
      "file_extension": ".py",
      "mimetype": "text/x-python",
      "name": "python",
      "nbconvert_exporter": "python",
      "pygments_lexer": "ipython3",
      "version": "3.11.11"
    },
    "toc": {
      "base_numbering": 1,
      "nav_menu": {},
      "number_sections": true,
      "sideBar": true,
      "skip_h1_title": false,
      "title_cell": "Table of Contents",
      "title_sidebar": "Contents",
      "toc_cell": false,
      "toc_position": {},
      "toc_section_display": true,
      "toc_window_display": false
    }
  },
  "nbformat": 4,
  "nbformat_minor": 0
}